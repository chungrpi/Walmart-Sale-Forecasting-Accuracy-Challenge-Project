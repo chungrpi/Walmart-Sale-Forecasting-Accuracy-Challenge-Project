{
  "nbformat": 4,
  "nbformat_minor": 0,
  "metadata": {
    "kernelspec": {
      "name": "python3",
      "display_name": "Python 3"
    },
    "language_info": {
      "codemirror_mode": {
        "name": "ipython",
        "version": 3
      },
      "file_extension": ".py",
      "mimetype": "text/x-python",
      "name": "python",
      "nbconvert_exporter": "python",
      "pygments_lexer": "ipython3",
      "version": "3.7.3"
    },
    "colab": {
      "name": "lgb_model CA1.ipynb",
      "provenance": [],
      "collapsed_sections": [],
      "machine_shape": "hm"
    }
  },
  "cells": [
    {
      "cell_type": "code",
      "metadata": {
        "id": "tXipj8-4Hskm",
        "colab_type": "code",
        "colab": {}
      },
      "source": [
        "%reload_ext autoreload\n",
        "%autoreload 2\n",
        "%matplotlib inline"
      ],
      "execution_count": 0,
      "outputs": []
    },
    {
      "cell_type": "code",
      "metadata": {
        "id": "AcT6-hAYHsg3",
        "colab_type": "code",
        "outputId": "72b4564a-5267-4072-c3fc-bcdd600c835c",
        "colab": {
          "base_uri": "https://localhost:8080/",
          "height": 34
        }
      },
      "source": [
        "from google.colab import drive\n",
        "drive.mount('/content/drive')"
      ],
      "execution_count": 0,
      "outputs": [
        {
          "output_type": "stream",
          "text": [
            "Drive already mounted at /content/drive; to attempt to forcibly remount, call drive.mount(\"/content/drive\", force_remount=True).\n"
          ],
          "name": "stdout"
        }
      ]
    },
    {
      "cell_type": "code",
      "metadata": {
        "id": "SFaGIDCHHsdn",
        "colab_type": "code",
        "colab": {}
      },
      "source": [
        "# from fastai import *\n",
        "# from fastai.tabular import *\n",
        "import warnings\n",
        "warnings.filterwarnings('ignore')\n",
        "import pandas as pd\n",
        "import numpy as np\n",
        "import gc\n",
        "import os\n",
        "import re\n",
        "from sklearn.decomposition import PCA"
      ],
      "execution_count": 0,
      "outputs": []
    },
    {
      "cell_type": "code",
      "metadata": {
        "id": "YF-ytFUuHsai",
        "colab_type": "code",
        "outputId": "8db7e90b-0bfb-4464-f2a2-a792c64d6fe5",
        "colab": {
          "base_uri": "https://localhost:8080/",
          "height": 54
        }
      },
      "source": [
        "print(os.listdir('../content/drive/My Drive/Colab Notebooks/'))"
      ],
      "execution_count": 0,
      "outputs": [
        {
          "output_type": "stream",
          "text": [
            "['calendar.csv', 'sales_train_validation.csv', 'sample_submission.csv', 'sell_prices.csv', 'kernel64a066fb59 (1) (1) (1) (1).ipynb', 'kernel64a066fb59 (1) (1) (1) (1) (1).ipynb', 'kernel64a066fb59 (1).ipynb', 'kernel64a066fb59 (1) (1) (1) (1) (2).ipynb', 'kernel64a066fb59 (1) (1) (1) (1) (2) (1).ipynb', 'kernel64a066fb59_(1)_(1)_(1)_(1)_(2)_(1) (1).ipynb', 'kernel64a066fb59_(1)_(1)_(1)_(1)_(2)_(1)_(1).ipynb', 'data_nn_shift10', 'data_NN_shift10_1', 'data_nn_shift10_2', '.ipynb_checkpoints', 'data_nn_shift28', 'Liverpool Ion', 'wavenet-with-shifted-rfc-proba-and-cbr.ipynb', 'Liverpool_Ion_Wavenet_(1) (1).ipynb', 'Liverpool_Ion_Wavenet_(1)_(1)_(1).ipynb', 'Liverpool_Ion_Wavenet_(1).ipynb', 'Liverpool_Ion_Wavenet_(1)_(1)_(1) (1).ipynb', 'lgb_model (12).ipynb', 'lgb_model (10) (2).ipynb', 'lgb_model (10) (1).ipynb', 'lgb_model (10).ipynb', 'Liverpool_Ion_fastai_(1)_(1)_(1)_(1)_(1).ipynb', 'sales_train_CA_1', 'sales_train_CA_2', 'sales_train_CA_3', 'sales_train_CA_4', 'sales_train_TX_1', 'sales_train_TX_2', 'sales_train_TX_3', 'sales_train_WI_1', 'sales_train_WI_2', 'sales_train_WI_3', 'WI_3_submission.csv', 'TX_2_submission.csv', 'CA_2_submission.csv', 'CA_4_submission.csv', 'WI_2_submission.csv', 'WI_1_submission.csv', 'TX_3_submission.csv', 'CA_3_submission.csv', 'TX_1_submission.csv', 'Liverpool_Ion_Wavenet_(1)_(1)_(1)_(1) (1).ipynb', 'CA_1_submission.csv']\n"
          ],
          "name": "stdout"
        }
      ]
    },
    {
      "cell_type": "code",
      "metadata": {
        "id": "I0t2pHVUHsXW",
        "colab_type": "code",
        "colab": {}
      },
      "source": [
        "path = '../content/drive/My Drive/Colab Notebooks/'"
      ],
      "execution_count": 0,
      "outputs": []
    },
    {
      "cell_type": "code",
      "metadata": {
        "id": "q1PX-6zvf2Xj",
        "colab_type": "code",
        "colab": {}
      },
      "source": [
        "#reduce memory\n",
        "def reduce_mem_usage(df, verbose=True):\n",
        "    numerics = ['int16', 'int32', 'int64', 'float16', 'float32', 'float64']\n",
        "    start_mem = df.memory_usage().sum() / 1024**2    \n",
        "    for col in df.columns:\n",
        "        col_type = df[col].dtypes\n",
        "        if col_type in numerics:\n",
        "            c_min = df[col].min()\n",
        "            c_max = df[col].max()\n",
        "            if str(col_type)[:3] == 'int':\n",
        "                if c_min > np.iinfo(np.int8).min and c_max < np.iinfo(np.int8).max:\n",
        "                    df[col] = df[col].astype(np.int8)\n",
        "                elif c_min > np.iinfo(np.int16).min and c_max < np.iinfo(np.int16).max:\n",
        "                    df[col] = df[col].astype(np.int16)\n",
        "                elif c_min > np.iinfo(np.int32).min and c_max < np.iinfo(np.int32).max:\n",
        "                    df[col] = df[col].astype(np.int32)\n",
        "                elif c_min > np.iinfo(np.int64).min and c_max < np.iinfo(np.int64).max:\n",
        "                    df[col] = df[col].astype(np.int64)  \n",
        "            else:\n",
        "                if c_min > np.finfo(np.float16).min and c_max < np.finfo(np.float16).max:\n",
        "                    df[col] = df[col].astype(np.float16)\n",
        "                elif c_min > np.finfo(np.float32).min and c_max < np.finfo(np.float32).max:\n",
        "                    df[col] = df[col].astype(np.float32)\n",
        "                else:\n",
        "                    df[col] = df[col].astype(np.float64)    \n",
        "    end_mem = df.memory_usage().sum() / 1024**2\n",
        "    if verbose: print('Mem. usage decreased to {:5.2f} Mb ({:.1f}% reduction)'.format(end_mem, 100 * (start_mem - end_mem) / start_mem))\n",
        "    return df"
      ],
      "execution_count": 0,
      "outputs": []
    },
    {
      "cell_type": "markdown",
      "metadata": {
        "id": "DHm4EHuR3aHk",
        "colab_type": "text"
      },
      "source": [
        "**DATA PREPARATION**"
      ]
    },
    {
      "cell_type": "code",
      "metadata": {
        "id": "gS_YYcJSHsT_",
        "colab_type": "code",
        "colab": {}
      },
      "source": [
        "# sales_train_validation = pd.read_csv(path + 'sales_train_validation.csv')\n",
        "sell_price = pd.read_csv(path + 'sell_prices.csv')\n",
        "calendar = pd.read_csv(path + 'calendar.csv')"
      ],
      "execution_count": 0,
      "outputs": []
    },
    {
      "cell_type": "code",
      "metadata": {
        "id": "JYfZ4Tt7HsNF",
        "colab_type": "code",
        "colab": {}
      },
      "source": [
        "sales_train_validation = pd.melt(sales_train_validation, id_vars = ['id', 'item_id', 'dept_id', 'cat_id', 'store_id', 'state_id'], var_name = 'day', value_name = 'demand')\n",
        "sales_train_validation['day'] = sales_train_validation['day'].apply(lambda x: int(x[2:])).astype('int16')\n",
        "# sales_train_validation = sales_train_validation.loc[sales_train_validation.day >= 1069] #day 1434 is 01/01/2015 1069, 949"
      ],
      "execution_count": 0,
      "outputs": []
    },
    {
      "cell_type": "code",
      "metadata": {
        "id": "GfgnFP0r8FeL",
        "colab_type": "code",
        "colab": {}
      },
      "source": [
        "sales_train_CA_1 = sales_train_validation.loc[sales_train_validation['store_id']=='CA_1']\n",
        "sales_train_CA_2 = sales_train_validation.loc[sales_train_validation['store_id']=='CA_2']\n",
        "sales_train_CA_3 = sales_train_validation.loc[sales_train_validation['store_id']=='CA_3']\n",
        "sales_train_CA_4 = sales_train_validation.loc[sales_train_validation['store_id']=='CA_4']\n",
        "sales_train_TX_1 = sales_train_validation.loc[sales_train_validation['store_id']=='TX_1']\n",
        "sales_train_TX_2 = sales_train_validation.loc[sales_train_validation['store_id']=='TX_2']\n",
        "sales_train_TX_3 = sales_train_validation.loc[sales_train_validation['store_id']=='TX_3']\n",
        "sales_train_WI_1 = sales_train_validation.loc[sales_train_validation['store_id']=='WI_1']\n",
        "sales_train_WI_2 = sales_train_validation.loc[sales_train_validation['store_id']=='WI_2']\n",
        "sales_train_WI_3 = sales_train_validation.loc[sales_train_validation['store_id']=='WI_3']"
      ],
      "execution_count": 0,
      "outputs": []
    },
    {
      "cell_type": "code",
      "metadata": {
        "id": "pbyIuNKm8FKJ",
        "colab_type": "code",
        "outputId": "80545241-a970-4524-bf50-5a90ae5d7278",
        "colab": {
          "base_uri": "https://localhost:8080/",
          "height": 34
        }
      },
      "source": [
        "del sales_train_validation\n",
        "gc.collect()"
      ],
      "execution_count": 0,
      "outputs": [
        {
          "output_type": "execute_result",
          "data": {
            "text/plain": [
              "0"
            ]
          },
          "metadata": {
            "tags": []
          },
          "execution_count": 9
        }
      ]
    },
    {
      "cell_type": "code",
      "metadata": {
        "id": "_BmYjSJM8FGo",
        "colab_type": "code",
        "outputId": "a17cbf59-7db5-4793-ae78-31d2bf47f697",
        "colab": {
          "base_uri": "https://localhost:8080/",
          "height": 34
        }
      },
      "source": [
        "gc.collect()"
      ],
      "execution_count": 0,
      "outputs": [
        {
          "output_type": "execute_result",
          "data": {
            "text/plain": [
              "0"
            ]
          },
          "metadata": {
            "tags": []
          },
          "execution_count": 10
        }
      ]
    },
    {
      "cell_type": "code",
      "metadata": {
        "id": "pMfJJc-IHsJp",
        "colab_type": "code",
        "colab": {}
      },
      "source": [
        "calendar['d'] = calendar['d'].apply(lambda x: int(x[2:])).astype('int16')"
      ],
      "execution_count": 0,
      "outputs": []
    },
    {
      "cell_type": "code",
      "metadata": {
        "id": "SA3jC714HsGP",
        "colab_type": "code",
        "colab": {}
      },
      "source": [
        "calendar.drop(['weekday'], axis=1, inplace=True)"
      ],
      "execution_count": 0,
      "outputs": []
    },
    {
      "cell_type": "code",
      "metadata": {
        "id": "WDD5-kQ-HsCr",
        "colab_type": "code",
        "colab": {}
      },
      "source": [
        "def add_datepart(df, fldname, drop=True, time=False):\n",
        "    \"Helper function that adds columns relevant to a date.\"\n",
        "    fld = df[fldname]\n",
        "    fld_dtype = fld.dtype\n",
        "    if isinstance(fld_dtype, pd.core.dtypes.dtypes.DatetimeTZDtype):\n",
        "        fld_dtype = np.datetime64\n",
        "\n",
        "    if not np.issubdtype(fld_dtype, np.datetime64):\n",
        "        df[fldname] = fld = pd.to_datetime(fld, infer_datetime_format=True)\n",
        "    targ_pre = re.sub('[Dd]ate$', '', fldname)\n",
        "    attr = ['Week', 'Day', 'Dayofweek', 'Dayofyear',\n",
        "            'Is_month_end', 'Is_month_start', 'Is_quarter_end', 'Is_quarter_start', 'Is_year_end', 'Is_year_start']\n",
        "    if time: attr = attr + ['Hour', 'Minute', 'Second']\n",
        "    for n in attr: df[targ_pre + n] = getattr(fld.dt, n.lower())\n",
        "    df[targ_pre + 'Elapsed'] = fld.astype(np.int64) // 10 ** 9\n",
        "    if drop: df.drop(fldname, axis=1, inplace=True)"
      ],
      "execution_count": 0,
      "outputs": []
    },
    {
      "cell_type": "code",
      "metadata": {
        "id": "EznDkeqgHr-_",
        "colab_type": "code",
        "colab": {}
      },
      "source": [
        "add_datepart(calendar, 'date', drop=False)"
      ],
      "execution_count": 0,
      "outputs": []
    },
    {
      "cell_type": "code",
      "metadata": {
        "id": "YxgrfzHsHr7u",
        "colab_type": "code",
        "colab": {}
      },
      "source": [
        "def to_season(date):\n",
        "    \n",
        "    #convert date to season for the northen hemisphere\n",
        "    #\"day of year\" ranges for the northern hemisphere\n",
        "    spring = range(80, 172)\n",
        "    summer = range(172, 264)\n",
        "    fall = range(264, 355)\n",
        "    # winter = everything else\n",
        "    doy = date.timetuple().tm_yday\n",
        "    if doy in spring:\n",
        "      season = 'Spring'\n",
        "    elif doy in summer:\n",
        "      season = 'Summer'\n",
        "    elif doy in fall:\n",
        "      season = 'Fall'\n",
        "    else:\n",
        "      season = 'Winter'\n",
        "    return season"
      ],
      "execution_count": 0,
      "outputs": []
    },
    {
      "cell_type": "code",
      "metadata": {
        "id": "mozq06GnHr4m",
        "colab_type": "code",
        "colab": {}
      },
      "source": [
        "calendar['Season'] = calendar.date.transform(lambda x: to_season(x))\n",
        "# calendar.drop(['Day'], axis=1, inplace=True)"
      ],
      "execution_count": 0,
      "outputs": []
    },
    {
      "cell_type": "code",
      "metadata": {
        "id": "GPWZJHINOaqY",
        "colab_type": "code",
        "outputId": "52e30c87-2144-4e8c-8a64-457ca1e7204e",
        "colab": {
          "base_uri": "https://localhost:8080/",
          "height": 34
        }
      },
      "source": [
        "sell_price['price_max'] = sell_price.groupby(['store_id','item_id'])['sell_price'].transform('max')\n",
        "sell_price['price_min'] = sell_price.groupby(['store_id','item_id'])['sell_price'].transform('min')\n",
        "sell_price['price_std'] = sell_price.groupby(['store_id','item_id'])['sell_price'].transform('std')\n",
        "sell_price['price_mean'] = sell_price.groupby(['store_id','item_id'])['sell_price'].transform('mean')\n",
        "sell_price['price_norm'] = sell_price['sell_price']/sell_price['price_max']\n",
        "sell_price['price_nunique'] = sell_price.groupby(['store_id','item_id'])['sell_price'].transform('nunique')\n",
        "sell_price['item_nunique'] = sell_price.groupby(['store_id','sell_price'])['item_id'].transform('nunique')\n",
        "calendar_prices = calendar[['wm_yr_wk','month','year']]\n",
        "calendar_prices = calendar_prices.drop_duplicates(subset=['wm_yr_wk'])\n",
        "sell_price = sell_price.merge(calendar_prices[['wm_yr_wk','month','year']], on=['wm_yr_wk'], how='left')\n",
        "del calendar_prices\n",
        "gc.collect()\n",
        "sell_price['price_momentum'] = sell_price['sell_price']/sell_price.groupby(['store_id','item_id'])['sell_price'].transform(lambda x: x.shift(1))\n",
        "sell_price['price_momentum_m'] = sell_price['sell_price']/sell_price.groupby(['store_id','item_id','month'])['sell_price'].transform('mean')\n",
        "sell_price['price_momentum_y'] = sell_price['sell_price']/sell_price.groupby(['store_id','item_id','year'])['sell_price'].transform('mean')\n",
        "del sell_price['month'], sell_price['year']\n",
        "gc.collect()"
      ],
      "execution_count": 0,
      "outputs": [
        {
          "output_type": "execute_result",
          "data": {
            "text/plain": [
              "0"
            ]
          },
          "metadata": {
            "tags": []
          },
          "execution_count": 17
        }
      ]
    },
    {
      "cell_type": "code",
      "metadata": {
        "id": "__Re1U7vKleA",
        "colab_type": "code",
        "colab": {}
      },
      "source": [
        "#merge calendar with sales_train_validation\n",
        "sales_train_CA_1 = sales_train_CA_1.merge(calendar, how='left', left_on='day', right_on='d')\n",
        "sales_train_CA_1.drop('d', axis=1, inplace=True)\n",
        "#merge sell_price with sales_train_validation\n",
        "sales_train_CA_1 = sales_train_CA_1.merge(sell_price, how='left', on=['item_id','store_id','wm_yr_wk'])\n",
        "sales_train_CA_1.drop(['store_id','state_id'], axis=1, inplace=True)\n",
        "\n",
        "#merge calendar with sales_train_validation\n",
        "sales_train_CA_2 = sales_train_CA_2.merge(calendar, how='left', left_on='day', right_on='d')\n",
        "sales_train_CA_2.drop('d', axis=1, inplace=True)\n",
        "#merge sell_price with sales_train_validation\n",
        "sales_train_CA_2 = sales_train_CA_2.merge(sell_price, how='left', on=['item_id','store_id', 'wm_yr_wk'])\n",
        "sales_train_CA_2.drop(['store_id','state_id'], axis=1, inplace=True)\n",
        "\n",
        "#merge calendar with sales_train_validation\n",
        "sales_train_CA_3 = sales_train_CA_3.merge(calendar, how='left', left_on='day', right_on='d')\n",
        "sales_train_CA_3.drop('d', axis=1, inplace=True)\n",
        "#merge sell_price with sales_train_validation\n",
        "sales_train_CA_3 = sales_train_CA_3.merge(sell_price, how='left', on=['item_id','store_id', 'wm_yr_wk'])\n",
        "sales_train_CA_3.drop(['store_id','state_id'], axis=1, inplace=True)\n",
        "\n",
        "#merge calendar with sales_train_validation\n",
        "sales_train_CA_4 = sales_train_CA_4.merge(calendar, how='left', left_on='day', right_on='d')\n",
        "sales_train_CA_4.drop('d', axis=1, inplace=True)\n",
        "#merge sell_price with sales_train_validation\n",
        "sales_train_CA_4 = sales_train_CA_4.merge(sell_price, how='left', on=['item_id','store_id', 'wm_yr_wk'])\n",
        "sales_train_CA_4.drop(['store_id','state_id'], axis=1, inplace=True)\n",
        "\n",
        "#merge calendar with sales_train_validation\n",
        "sales_train_TX_1 = sales_train_TX_1.merge(calendar, how='left', left_on='day', right_on='d')\n",
        "sales_train_TX_1.drop('d', axis=1, inplace=True)\n",
        "#merge sell_price with sales_train_validation\n",
        "sales_train_TX_1 = sales_train_TX_1.merge(sell_price, how='left', on=['item_id','store_id', 'wm_yr_wk'])\n",
        "sales_train_TX_1.drop(['store_id','state_id'], axis=1, inplace=True)\n",
        "\n",
        "#merge calendar with sales_train_validation\n",
        "sales_train_TX_2 = sales_train_TX_2.merge(calendar, how='left', left_on='day', right_on='d')\n",
        "sales_train_TX_2.drop('d', axis=1, inplace=True)\n",
        "#merge sell_price with sales_train_validation\n",
        "sales_train_TX_2 = sales_train_TX_2.merge(sell_price, how='left', on=['item_id','store_id', 'wm_yr_wk'])\n",
        "sales_train_TX_2.drop(['store_id','state_id'], axis=1, inplace=True)\n",
        "\n",
        "#merge calendar with sales_train_validation\n",
        "sales_train_TX_3 = sales_train_TX_3.merge(calendar, how='left', left_on='day', right_on='d')\n",
        "sales_train_TX_3.drop('d', axis=1, inplace=True)\n",
        "#merge sell_price with sales_train_validation\n",
        "sales_train_TX_3 = sales_train_TX_3.merge(sell_price, how='left', on=['item_id','store_id', 'wm_yr_wk'])\n",
        "sales_train_TX_3.drop(['store_id','state_id'], axis=1, inplace=True)\n",
        "\n",
        "#merge calendar with sales_train_validation\n",
        "sales_train_WI_1 = sales_train_WI_1.merge(calendar, how='left', left_on='day', right_on='d')\n",
        "sales_train_WI_1.drop('d', axis=1, inplace=True)\n",
        "#merge sell_price with sales_train_validation\n",
        "sales_train_WI_1 = sales_train_WI_1.merge(sell_price, how='left', on=['item_id','store_id', 'wm_yr_wk'])\n",
        "sales_train_WI_1.drop(['store_id','state_id'], axis=1, inplace=True)\n",
        "\n",
        "#merge calendar with sales_train_validation\n",
        "sales_train_WI_2 = sales_train_WI_2.merge(calendar, how='left', left_on='day', right_on='d')\n",
        "sales_train_WI_2.drop('d', axis=1, inplace=True)\n",
        "#merge sell_price with sales_train_validation\n",
        "sales_train_WI_2 = sales_train_WI_2.merge(sell_price, how='left', on=['item_id','store_id', 'wm_yr_wk'])\n",
        "sales_train_WI_2.drop(['store_id','state_id'], axis=1, inplace=True)\n",
        "\n",
        "#merge calendar with sales_train_validation\n",
        "sales_train_WI_3 = sales_train_WI_3.merge(calendar, how='left', left_on='day', right_on='d')\n",
        "sales_train_WI_3.drop('d', axis=1, inplace=True)\n",
        "#merge sell_price with sales_train_validation\n",
        "sales_train_WI_3 = sales_train_WI_3.merge(sell_price, how='left', on=['item_id','store_id', 'wm_yr_wk'])\n",
        "sales_train_WI_3.drop(['store_id','state_id'], axis=1, inplace=True)"
      ],
      "execution_count": 0,
      "outputs": []
    },
    {
      "cell_type": "code",
      "metadata": {
        "id": "u_b9LI77Mu_-",
        "colab_type": "code",
        "colab": {}
      },
      "source": [
        "data_set = [sales_train_CA_1,sales_train_CA_2,sales_train_CA_3,sales_train_CA_4,sales_train_TX_1,\n",
        "            sales_train_TX_2,sales_train_TX_3,sales_train_WI_1,sales_train_WI_2,sales_train_WI_3]\n",
        "\n",
        "names = ['sales_train_CA_1','sales_train_CA_2','sales_train_CA_3','sales_train_CA_4','sales_train_TX_1',\n",
        "         'sales_train_TX_2','sales_train_TX_3','sales_train_WI_1','sales_train_WI_2','sales_train_WI_3']\n",
        "\n",
        "for data,name in zip(data_set,names):\n",
        "  data = data.reset_index(drop=True)\n",
        "  data.to_feather(name)\n",
        "\n",
        "!cp '/content/sales_train_CA_1' '../content/drive/My Drive/Colab Notebooks/'\n",
        "!cp '/content/sales_train_CA_2' '../content/drive/My Drive/Colab Notebooks/'\n",
        "!cp '/content/sales_train_CA_3' '../content/drive/My Drive/Colab Notebooks/'\n",
        "!cp '/content/sales_train_CA_4' '../content/drive/My Drive/Colab Notebooks/'\n",
        "!cp '/content/sales_train_TX_1' '../content/drive/My Drive/Colab Notebooks/'\n",
        "!cp '/content/sales_train_TX_2' '../content/drive/My Drive/Colab Notebooks/'\n",
        "!cp '/content/sales_train_TX_3' '../content/drive/My Drive/Colab Notebooks/'\n",
        "!cp '/content/sales_train_WI_1' '../content/drive/My Drive/Colab Notebooks/'\n",
        "!cp '/content/sales_train_WI_2' '../content/drive/My Drive/Colab Notebooks/'\n",
        "!cp '/content/sales_train_WI_3' '../content/drive/My Drive/Colab Notebooks/'"
      ],
      "execution_count": 0,
      "outputs": []
    },
    {
      "cell_type": "markdown",
      "metadata": {
        "id": "zGW5qvri5lZo",
        "colab_type": "text"
      },
      "source": [
        "**FEATURE ENGINEERING**"
      ]
    },
    {
      "cell_type": "code",
      "metadata": {
        "id": "4FX8AYBjf967",
        "colab_type": "code",
        "colab": {}
      },
      "source": [
        "sales_train_CA_1 = pd.read_feather(path + 'sales_train_CA_1')\n",
        "# sales_train_CA_2 = pd.read_feather(path + 'sales_train_CA_2')\n",
        "# sales_train_CA_3 = pd.read_feather(path + 'sales_train_CA_3')\n",
        "# sales_train_CA_4 = pd.read_feather('sales_train_CA_4')\n",
        "# sales_train_TX_1 = pd.read_feather('sales_train_TX_1')\n",
        "# sales_train_TX_2 = pd.read_feather('sales_train_TX_2')\n",
        "# sales_train_TX_3 = pd.read_feather(path + 'sales_train_TX_3')\n",
        "# sales_train_WI_1 = pd.read_feather('sales_train_WI_1')\n",
        "# sales_train_WI_2 = pd.read_feather('sales_train_WI_2')\n",
        "# sales_train_WI_3 = pd.read_feather('sales_train_WI_3')"
      ],
      "execution_count": 0,
      "outputs": []
    },
    {
      "cell_type": "code",
      "metadata": {
        "id": "bMqK7qMQekoP",
        "colab_type": "code",
        "colab": {}
      },
      "source": [
        "# def fillna_price(data):\n",
        "#   mean_sell_price = data.loc[data.sell_price.isnull()==False][['item_id','sell_price']].groupby('item_id', as_index=False).mean()\n",
        "#   mean_sell_price_per_item = {}\n",
        "#   for i in range(mean_sell_price.shape[0]):\n",
        "#     mean_sell_price_per_item[mean_sell_price['item_id'].iloc[i]] = mean_sell_price['sell_price'].iloc[i]\n",
        "    \n",
        "#   sell_price_nan = data['sell_price'].isnull().values\n",
        "#   sell_price_nan_loc = np.where(sell_price_nan == True)[0]\n",
        "\n",
        "#   for i in sell_price_nan_loc:\n",
        "#     id_ = data['item_id'].iloc[i]\n",
        "#     data['sell_price'].iloc[i] = mean_sell_price_per_item[id_]\n",
        "\n",
        "#   return data"
      ],
      "execution_count": 0,
      "outputs": []
    },
    {
      "cell_type": "code",
      "metadata": {
        "id": "HALEMf8MevXS",
        "colab_type": "code",
        "colab": {}
      },
      "source": [
        "def label_encode(data):\n",
        "\n",
        "  cat_col = ['item_id', 'dept_id', 'cat_id', 'event_name_1', 'event_type_1', 'event_name_2', 'event_type_2', 'Season']\n",
        "  for col in cat_col:\n",
        "    data[col] = data[col].astype('category').cat.codes + 1\n",
        "\n",
        "  return data"
      ],
      "execution_count": 0,
      "outputs": []
    },
    {
      "cell_type": "code",
      "metadata": {
        "id": "6YfBrZxdfJHN",
        "colab_type": "code",
        "colab": {}
      },
      "source": [
        "def create_fe(data):\n",
        "    \n",
        "    shift_window_size = [1]\n",
        "    lag_day = [1,3,5,7,28]\n",
        "    roll_demand_days = [7,14,30,60,180]\n",
        "    # expand_demand_days = [1,7]\n",
        "    EWF_windows = [7,14,30,60]\n",
        "    roll_price_days = [7,14,30,60]\n",
        "\n",
        "\n",
        "    #### Add lag demand feature     \n",
        "    for i in lag_day:\n",
        "        data['lag_pos'+str(i)] = data.groupby('item_id', as_index=False)['demand'].transform(lambda x: x.shift(i))\n",
        "        # data['lag_neg'+str(i)] = data.groupby('item_id', as_index=False)['demand'].transform(lambda x: x.shift(i))\n",
        "\n",
        "    ###Add price change\n",
        "    gr = data.groupby([\"item_id\"])[\"sell_price\"]\n",
        "    data[\"sell_price_rel_diff\"] = gr.pct_change()\n",
        "    data[\"sell_price_cumrel\"] = (gr.shift(0) - gr.cummin()) / (1 + gr.cummax() - gr.cummin())\n",
        "    data[\"sell_price_cumrel\"] = (gr.shift(7) - gr.cummin()) / (1 + gr.cummax() - gr.cummin())\n",
        "    data[\"sell_price_cumrel\"] = (gr.shift(14) - gr.cummin()) / (1 + gr.cummax() - gr.cummin())\n",
        "    data[\"sell_price_cumrel\"] = (gr.shift(30) - gr.cummin()) / (1 + gr.cummax() - gr.cummin())    \n",
        "    \n",
        "\n",
        "    ### Moving average on item_id         \n",
        "    for i in shift_window_size:\n",
        "      for j in roll_demand_days:\n",
        "        data['demand_roll_mean_'+str(j)] = data.groupby('item_id', as_index=False)['demand'].transform(lambda x: x.shift(i).rolling(window=j, min_periods=1).mean())\n",
        "        data['demand_roll_std_'+str(j)] = data.groupby('item_id', as_index=False)['demand'].transform(lambda x: x.shift(i).rolling(window=j, min_periods=1).std())\n",
        "        # data['demand_roll_q10_'+str(j)] = data.groupby('item_id', as_index=False)['demand'].transform(lambda x: x.shift(i).rolling(window=j, min_periods=1).quantile(0.10))\n",
        "        data['demand_roll_q25_'+str(j)] = data.groupby('item_id', as_index=False)['demand'].transform(lambda x: x.shift(i).rolling(window=j, min_periods=1).quantile(0.25))\n",
        "        # data['demand_roll_q50_'+str(j)] = data.groupby('item_id', as_index=False)['demand'].transform(lambda x: x.shift(i).rolling(window=j, min_periods=1).quantile(0.50))\n",
        "        data['demand_roll_q75_'+str(j)] = data.groupby('item_id', as_index=False)['demand'].transform(lambda x: x.shift(i).rolling(window=j, min_periods=1).quantile(0.75))\n",
        "        # data['demand_roll_q90_'+str(j)] = data.groupby('item_id', as_index=False)['demand'].transform(lambda x: x.shift(i).rolling(window=j, min_periods=1).quantile(0.90))\n",
        "        data['demand_roll_IQR_'+str(j)] = data['demand_roll_q75_'+str(j)] - data['demand_roll_q25_'+str(j)]    \n",
        "        \n",
        "    # for i in shift_window_size:\n",
        "    #   for j in expand_demand_days:\n",
        "    #     data['demand_expand_mean_'+str(j)] = data.groupby('item_id', as_index=False)['demand'].transform(lambda x: x.shift(i).expanding(j).mean())    \n",
        "\n",
        "\n",
        "    # Add exponential weighted functions:\n",
        "    for i in shift_window_size:\n",
        "      for j in EWF_windows:\n",
        "        data['ewm_mean_' + str(j)] = data.groupby('item_id', as_index=False)['demand'].transform(lambda x: x.shift(i).ewm(span=j, min_periods=1).mean())\n",
        "        data['ewm_std_' + str(j)] = data.groupby('item_id', as_index=False)['demand'].transform(lambda x: x.shift(i).ewm(span=j, min_periods=1).std())\n",
        "\n",
        "    for i in roll_price_days:\n",
        "      data['price_roll_mean_'+str(i)] = data.groupby('item_id', as_index=False)['sell_price'].transform(lambda x: x.rolling(i).mean())\n",
        "\n",
        "\n",
        "    ### Moving average on item_id and cat_id\n",
        "    # for i in shift_window_size:\n",
        "    #    for j in roll_demand_days:\n",
        "    #      data['demand_cat_roll_mean_'+str(j)] = data.groupby(['item_id','cat_id'], as_index=False)['demand'].transform(lambda x: x.shift(i).rolling(j).mean())    \n",
        "\n",
        "    # for i in shift_window_size:\n",
        "    #   for j in expand_demand_days:\n",
        "    #     data['demand_cat_expand_mean_'+str(j)] = data.groupby(['item_id','cat_id'], as_index=False)['demand'].transform(lambda x: x.shift(i).expanding(j).mean())       \n",
        "\n",
        "    # for i in roll_price_days:\n",
        "    #   data['price_cat_roll_mean_'+str(i)] = data.groupby(['item_id','cat_id'], as_index=False)['sell_price'].transform(lambda x: x.rolling(i).mean())\n",
        "\n",
        "\n",
        "    ### Moving average on item_id and dept_id\n",
        "    for i in shift_window_size:\n",
        "       for j in roll_demand_days:\n",
        "         data['demand_dept_roll_mean_'+str(j)] = data.groupby(['item_id','dept_id'], as_index=False)['demand'].transform(lambda x: x.shift(i).rolling(j).mean())    \n",
        "\n",
        "    # for i in shift_window_size:\n",
        "    #   for j in expand_demand_days:\n",
        "    #     data['demand_dept_expand_mean_'+str(j)] = data.groupby(['item_id','dept_id'], as_index=False)['demand'].transform(lambda x: x.shift(i).expanding(j).mean())       \n",
        "\n",
        "    # for i in roll_price_days:\n",
        "    #   data['price_dept_roll_mean_'+str(i)] = data.groupby(['item_id','dept_id'], as_index=False)['sell_price'].transform(lambda x: x.rolling(i).mean())\n",
        "\n",
        "    ### Moving average on item_id and Season\n",
        "    # for i in shift_window_size:\n",
        "    #    for j in roll_demand_days:\n",
        "    #      data['demand_sea_roll_mean_'+str(j)] = data.groupby(['item_id','Season'], as_index=False)['demand'].transform(lambda x: x.shift(i).rolling(j).mean())    \n",
        "\n",
        "    # for i in shift_window_size:\n",
        "    #   for j in expand_demand_days:\n",
        "    #     data['demand_sea_expand_mean_'+str(j)] = data.groupby(['item_id','Season'], as_index=False)['demand'].transform(lambda x: x.shift(i).expanding(j).mean())       \n",
        "\n",
        "    # for i in roll_price_days:\n",
        "    #   data['price_sea_roll_mean_'+str(i)] = data.groupby(['item_id','Season'], as_index=False)['sell_price'].transform(lambda x: x.rolling(i).mean())\n",
        "\n",
        "    data['item_id_cat_id_mean'] = data.groupby(['item_id','cat_id'], as_index=False)['demand'].transform(lambda x: x.shift(1).mean())\n",
        "    data['item_id_cat_id_std'] = data.groupby(['item_id','cat_id'], as_index=False)['demand'].transform(lambda x: x.shift(1).std())\n",
        "    data['item_id_dept_id_mean'] = data.groupby(['item_id','dept_id'], as_index=False)['demand'].transform(lambda x: x.shift(1).mean())\n",
        "    data['item_id_dept_id_std'] = data.groupby(['item_id','dept_id'], as_index=False)['demand'].transform(lambda x: x.shift(1).std())\n",
        "    data['dept_id_cat_id_mean'] = data.groupby(['dept_id','cat_id'], as_index=False)['demand'].transform(lambda x: x.shift(1).mean())\n",
        "    data['dept_id_cat_id_std'] = data.groupby(['dept_id','cat_id'], as_index=False)['demand'].transform(lambda x: x.shift(1).std())\n",
        "\n",
        "    return data"
      ],
      "execution_count": 0,
      "outputs": []
    },
    {
      "cell_type": "code",
      "metadata": {
        "id": "P7528KAUblhR",
        "colab_type": "code",
        "colab": {}
      },
      "source": [
        "def find_last_sale(df,n_day):\n",
        "    \n",
        "    # Limit initial df\n",
        "    ls_df = df[['item_id','day','demand']]\n",
        "    \n",
        "    # Convert target to binary\n",
        "    ls_df['non_zero'] = (ls_df['demand']>0).astype(np.int8)\n",
        "    \n",
        "    # Make lags to prevent any leakage\n",
        "    ls_df['non_zero_lag'] = ls_df.groupby(['item_id'])['non_zero'].transform(lambda x: x.shift(n_day).rolling(2000,1).sum()).fillna(-1)\n",
        "\n",
        "    temp_df = ls_df[['item_id','day','non_zero_lag']].drop_duplicates(subset=['item_id','non_zero_lag'])\n",
        "    temp_df.columns = ['item_id','day_min','non_zero_lag']\n",
        "\n",
        "    ls_df = ls_df.merge(temp_df, on=['item_id','non_zero_lag'], how='left')\n",
        "    ls_df['last_sale'] = ls_df['day'] - ls_df['day_min']\n",
        "    df['last_sale'] = ls_df['last_sale'].values\n",
        "\n",
        "    return df"
      ],
      "execution_count": 0,
      "outputs": []
    },
    {
      "cell_type": "code",
      "metadata": {
        "id": "FIYUfmJjjBGw",
        "colab_type": "code",
        "colab": {}
      },
      "source": [
        "#prepare submission file\n",
        "sample_submission = pd.read_csv(path+'sample_submission.csv')\n",
        "sales_train_validation1 = pd.read_csv(path + 'sales_train_validation.csv')\n",
        "sales_train_validation1 = sales_train_validation1[['id', 'item_id', 'dept_id', 'cat_id', 'store_id', 'state_id']]\n",
        "validation = sample_submission.loc[sample_submission.id.str.contains('validation')]\n",
        "validation = validation.merge(sales_train_validation1, how='left', on='id')\n",
        "validation = pd.melt(validation, id_vars = ['id', 'item_id', 'dept_id', 'cat_id', 'store_id', 'state_id'], var_name = 'day', value_name = 'demand')\n",
        "validation['day'] = validation['day'].apply(lambda x: int(x[1:])).astype('int16')\n",
        "validation['day'] = validation['day'] + 1913"
      ],
      "execution_count": 0,
      "outputs": []
    },
    {
      "cell_type": "code",
      "metadata": {
        "id": "0ddkdY84jCPV",
        "colab_type": "code",
        "colab": {}
      },
      "source": [
        "validation_CA_1 = validation.loc[validation['store_id']=='CA_1']\n",
        "validation_CA_2 = validation.loc[validation['store_id']=='CA_2']\n",
        "validation_CA_3 = validation.loc[validation['store_id']=='CA_3']\n",
        "validation_CA_4 = validation.loc[validation['store_id']=='CA_4']\n",
        "validation_TX_1 = validation.loc[validation['store_id']=='TX_1']\n",
        "validation_TX_2 = validation.loc[validation['store_id']=='TX_2']\n",
        "validation_TX_3 = validation.loc[validation['store_id']=='TX_3']\n",
        "validation_WI_1 = validation.loc[validation['store_id']=='WI_1']\n",
        "validation_WI_2 = validation.loc[validation['store_id']=='WI_2']\n",
        "validation_WI_3 = validation.loc[validation['store_id']=='WI_3']"
      ],
      "execution_count": 0,
      "outputs": []
    },
    {
      "cell_type": "code",
      "metadata": {
        "id": "VOtfB4LJpjQ-",
        "colab_type": "code",
        "colab": {}
      },
      "source": [
        "CA_1_submission = pd.DataFrame({'id': validation_CA_1['id'], 'day':validation_CA_1['day'], 'demand':0})\n",
        "CA_2_submission = pd.DataFrame({'id': validation_CA_2['id'], 'day':validation_CA_2['day'], 'demand':0})\n",
        "CA_3_submission = pd.DataFrame({'id': validation_CA_3['id'], 'day':validation_CA_3['day'], 'demand':0})\n",
        "CA_4_submission = pd.DataFrame({'id': validation_CA_4['id'], 'day':validation_CA_4['day'], 'demand':0})\n",
        "TX_1_submission = pd.DataFrame({'id': validation_TX_1['id'], 'day':validation_TX_1['day'], 'demand':0})\n",
        "TX_2_submission = pd.DataFrame({'id': validation_TX_2['id'], 'day':validation_TX_2['day'], 'demand':0})\n",
        "TX_3_submission = pd.DataFrame({'id': validation_TX_3['id'], 'day':validation_TX_3['day'], 'demand':0})\n",
        "WI_1_submission = pd.DataFrame({'id': validation_WI_1['id'], 'day':validation_WI_1['day'], 'demand':0})\n",
        "WI_2_submission = pd.DataFrame({'id': validation_WI_2['id'], 'day':validation_WI_2['day'], 'demand':0})\n",
        "WI_3_submission = pd.DataFrame({'id': validation_WI_3['id'], 'day':validation_WI_3['day'], 'demand':0})"
      ],
      "execution_count": 0,
      "outputs": []
    },
    {
      "cell_type": "code",
      "metadata": {
        "id": "BaF694PNiA5_",
        "colab_type": "code",
        "colab": {}
      },
      "source": [
        "# from xgboost import XGBRegressor as xgb\n",
        "import lightgbm as lgb"
      ],
      "execution_count": 0,
      "outputs": []
    },
    {
      "cell_type": "code",
      "metadata": {
        "id": "stnmUmROks_0",
        "colab_type": "code",
        "colab": {}
      },
      "source": [
        "# train = [sales_train_CA_1,sales_train_CA_2,sales_train_CA_3,sales_train_CA_4,sales_train_TX_1,\n",
        "#             sales_train_TX_2,sales_train_TX_3,sales_train_WI_1,sales_train_WI_2,sales_train_WI_3]\n",
        "\n",
        "# test = [validation_CA_1,validation_CA_2,validation_CA_3,validation_CA_4,validation_TX_1,\n",
        "#         validation_TX_2,validation_TX_3,validation_WI_1,validation_WI_2,validation_WI_3]\n",
        "\n",
        "# submission = [CA_1_submission,CA_2_submission,CA_3_submission,CA_4_submission,TX_1_submission,\n",
        "#               TX_2_submission,TX_3_submission,WI_1_submission,WI_2_submission,WI_3_submission]\n",
        "\n",
        "train = [sales_train_CA_1]\n",
        "test = [validation_CA_1]\n",
        "submission = [CA_1_submission]\n",
        "sub_name = ['CA_1_submission.csv']\n",
        "\n",
        "lgb_params = {      'boosting_type': 'gbdt',\n",
        "                    'objective': 'tweedie',\n",
        "                    'tweedie_variance_power': 1.1,\n",
        "                    'metric': 'rmse',\n",
        "                    'subsample': 0.5,\n",
        "                    'subsample_freq': 1,\n",
        "                    'learning_rate': 0.03,\n",
        "                    'num_leaves': 2**11-1,\n",
        "                    'min_data_in_leaf': 2**12-1,\n",
        "                    'feature_fraction': 0.5,\n",
        "                    'max_bin': 100,\n",
        "                    'n_estimators': 1400,\n",
        "                    'boost_from_average': False,\n",
        "                    'verbose': -1,\n",
        "                } "
      ],
      "execution_count": 0,
      "outputs": []
    },
    {
      "cell_type": "code",
      "metadata": {
        "id": "B5ohWLWKCree",
        "colab_type": "code",
        "colab": {}
      },
      "source": [
        "sales_train_CA_1.drop(['Is_month_end', 'Is_month_start',\n",
        "       'Is_quarter_end', 'Is_quarter_start', 'Is_year_end', 'Is_year_start', 'Elapsed'], axis=1, inplace=True)"
      ],
      "execution_count": 0,
      "outputs": []
    },
    {
      "cell_type": "code",
      "metadata": {
        "id": "q0wSX4p_CnYD",
        "colab_type": "code",
        "outputId": "4d6418f2-0dae-47e2-b253-931473c176b6",
        "colab": {
          "base_uri": "https://localhost:8080/",
          "height": 34
        }
      },
      "source": [
        "sales_train_CA_1 = reduce_mem_usage(sales_train_CA_1)"
      ],
      "execution_count": 0,
      "outputs": [
        {
          "output_type": "stream",
          "text": [
            "Mem. usage decreased to 667.50 Mb (54.9% reduction)\n"
          ],
          "name": "stdout"
        }
      ]
    },
    {
      "cell_type": "code",
      "metadata": {
        "id": "TBd1QGR-ucCM",
        "colab_type": "code",
        "outputId": "3b6b2de1-ba62-40bb-a0f1-5ccbbe31ea53",
        "colab": {
          "base_uri": "https://localhost:8080/",
          "height": 34
        }
      },
      "source": [
        "gc.collect()"
      ],
      "execution_count": 0,
      "outputs": [
        {
          "output_type": "execute_result",
          "data": {
            "text/plain": [
              "0"
            ]
          },
          "metadata": {
            "tags": []
          },
          "execution_count": 26
        }
      ]
    },
    {
      "cell_type": "code",
      "metadata": {
        "id": "lwuBeffFfNl3",
        "colab_type": "code",
        "outputId": "e43cd572-26fd-4298-f4b8-e406b0d460e3",
        "colab": {
          "base_uri": "https://localhost:8080/",
          "height": 1000
        }
      },
      "source": [
        "for df_train1,df_test,df_sub,name in zip(train, test, submission, sub_name):    \n",
        "  df_train = df_train1.copy()\n",
        "  df_train.drop(['id','date','wm_yr_wk','Dayofweek'], axis=1, inplace=True)\n",
        "  gc.collect()\n",
        "  df_train = label_encode(df_train)\n",
        "  print('Doing feature engineering')\n",
        "  # df_train = find_last_sale(df_train,1)\n",
        "  df_train = create_fe(df_train)  \n",
        "  df_train = df_train.fillna(-1) \n",
        "  \n",
        "  X = df_train.loc[df_train['day']<1858].drop('demand', axis=1)\n",
        "  y = df_train.loc[df_train['day']<1858]['demand']\n",
        "  Xval = df_train.loc[df_train['day']>=1858].drop('demand', axis=1)\n",
        "  yval = df_train.loc[df_train['day']>=1858]['demand']\n",
        "\n",
        "  # #add PCA feature\n",
        "  # pca = PCA(n_components = 4)\n",
        "  # pca.fit(X)\n",
        "  # pca_X = pd.DataFrame(pca.transform(X))\n",
        "  # pca_X.columns = ['pca1', 'pca2', 'pca3', 'pca4']\n",
        "\n",
        "  # for col in pca_X.columns:\n",
        "  #   X[col] = pca_X[col].values\n",
        "\n",
        "  # pca_Xval = pd.DataFrame(pca.transform(Xval))\n",
        "  # pca_Xval.columns = ['pca1', 'pca2', 'pca3', 'pca4']\n",
        "\n",
        "  # for col in pca_Xval.columns:\n",
        "  #   Xval[col] = pca_Xval[col].values\n",
        "  \n",
        "  train_data = lgb.Dataset(X, label=y)\n",
        "  val_data = lgb.Dataset(Xval, label=yval)\n",
        "\n",
        "  del df_train, X, y, Xval, yval\n",
        "  gc.collect()\n",
        "\n",
        "  print('Running LGB')\n",
        "  lgb_model = lgb.train(lgb_params, train_data, valid_sets=[train_data, val_data], verbose_eval=10)\n",
        "\n",
        "  #merge calendar with test\n",
        "  df_test = df_test.merge(calendar, how='left', left_on='day', right_on='d')\n",
        "  df_test.drop('d', axis=1, inplace=True)\n",
        "  #merge sell_price with test\n",
        "  df_test = df_test.merge(sell_price, how='left', on=['item_id','store_id','wm_yr_wk'])\n",
        "  df_test.drop(['store_id','state_id'], axis=1, inplace=True)\n",
        "\n",
        "  df = pd.concat([df_train1,df_test])\n",
        "  df.drop(['id','date','wm_yr_wk','Dayofweek'], axis=1, inplace=True)\n",
        "  df = label_encode(df)\n",
        "  # preds = np.zeros(df_sub.shape[0])\n",
        "  print('Doing prediction')\n",
        "  for i in range(28):\n",
        "    print('i = ',i)\n",
        "    day = 1913 + i + 1\n",
        "    temp = df.loc[df['day']<=day]\n",
        "    # temp = find_last_sale(temp,1)\n",
        "    temp = create_fe(temp)\n",
        "    temp = temp.fillna(-1)\n",
        "    temp.drop(['demand','Is_month_end', 'Is_month_start', \n",
        "               'Is_quarter_end', 'Is_quarter_start', 'Is_year_end', 'Is_year_start', 'Elapsed'], axis=1, inplace=True)\n",
        "    # pca_test = pd.DataFrame(pca.transform(temp))\n",
        "    # pca_test.columns = ['pca1', 'pca2', 'pca3', 'pca4']\n",
        "\n",
        "    # for col in pca_test.columns:\n",
        "    #   temp[col] = pca_test[col].values\n",
        "    \n",
        "    \n",
        "    temp = temp.loc[temp['day'] == day]\n",
        "    # print(temp.shape)\n",
        "    temp['demand'] = lgb_model.predict(temp)\n",
        "    # print(df_sub.loc[df_sub['day']==day].shape)\n",
        "    df_sub.loc[df_sub['day']==day, 'demand'] = temp['demand'].values\n",
        "    df.loc[df['day']==day, 'demand'] = temp['demand'].values\n",
        "    del temp\n",
        "    gc.collect()    \n",
        "  \n",
        "  df_sub.to_csv(name, index=False)"
      ],
      "execution_count": 0,
      "outputs": [
        {
          "output_type": "stream",
          "text": [
            "Doing feature engineering\n",
            "Running LGB\n",
            "[10]\ttraining's rmse: 3.69851\tvalid_1's rmse: 3.11618\n",
            "[20]\ttraining's rmse: 3.27072\tvalid_1's rmse: 2.74092\n",
            "[30]\ttraining's rmse: 2.93199\tvalid_1's rmse: 2.45665\n",
            "[40]\ttraining's rmse: 2.69677\tvalid_1's rmse: 2.26661\n",
            "[50]\ttraining's rmse: 2.54316\tvalid_1's rmse: 2.14896\n",
            "[60]\ttraining's rmse: 2.44339\tvalid_1's rmse: 2.0769\n",
            "[70]\ttraining's rmse: 2.37861\tvalid_1's rmse: 2.03475\n",
            "[80]\ttraining's rmse: 2.33789\tvalid_1's rmse: 2.01126\n",
            "[90]\ttraining's rmse: 2.30896\tvalid_1's rmse: 1.99726\n",
            "[100]\ttraining's rmse: 2.28855\tvalid_1's rmse: 1.9887\n",
            "[110]\ttraining's rmse: 2.27437\tvalid_1's rmse: 1.98511\n",
            "[120]\ttraining's rmse: 2.26208\tvalid_1's rmse: 1.98229\n",
            "[130]\ttraining's rmse: 2.25215\tvalid_1's rmse: 1.9809\n",
            "[140]\ttraining's rmse: 2.2448\tvalid_1's rmse: 1.98009\n",
            "[150]\ttraining's rmse: 2.23741\tvalid_1's rmse: 1.97936\n",
            "[160]\ttraining's rmse: 2.23071\tvalid_1's rmse: 1.97892\n",
            "[170]\ttraining's rmse: 2.22544\tvalid_1's rmse: 1.97913\n",
            "[180]\ttraining's rmse: 2.22025\tvalid_1's rmse: 1.97824\n",
            "[190]\ttraining's rmse: 2.21533\tvalid_1's rmse: 1.97797\n",
            "[200]\ttraining's rmse: 2.20963\tvalid_1's rmse: 1.97796\n",
            "[210]\ttraining's rmse: 2.2053\tvalid_1's rmse: 1.9787\n",
            "[220]\ttraining's rmse: 2.20097\tvalid_1's rmse: 1.97899\n",
            "[230]\ttraining's rmse: 2.19757\tvalid_1's rmse: 1.97891\n",
            "[240]\ttraining's rmse: 2.19468\tvalid_1's rmse: 1.97798\n",
            "[250]\ttraining's rmse: 2.191\tvalid_1's rmse: 1.9779\n",
            "[260]\ttraining's rmse: 2.18787\tvalid_1's rmse: 1.97817\n",
            "[270]\ttraining's rmse: 2.18357\tvalid_1's rmse: 1.977\n",
            "[280]\ttraining's rmse: 2.18156\tvalid_1's rmse: 1.97633\n",
            "[290]\ttraining's rmse: 2.17826\tvalid_1's rmse: 1.9762\n",
            "[300]\ttraining's rmse: 2.17484\tvalid_1's rmse: 1.97604\n",
            "[310]\ttraining's rmse: 2.16961\tvalid_1's rmse: 1.97531\n",
            "[320]\ttraining's rmse: 2.16633\tvalid_1's rmse: 1.97472\n",
            "[330]\ttraining's rmse: 2.16313\tvalid_1's rmse: 1.97478\n",
            "[340]\ttraining's rmse: 2.15987\tvalid_1's rmse: 1.97459\n",
            "[350]\ttraining's rmse: 2.15771\tvalid_1's rmse: 1.9739\n",
            "[360]\ttraining's rmse: 2.15482\tvalid_1's rmse: 1.97282\n",
            "[370]\ttraining's rmse: 2.15306\tvalid_1's rmse: 1.97239\n",
            "[380]\ttraining's rmse: 2.15128\tvalid_1's rmse: 1.97245\n",
            "[390]\ttraining's rmse: 2.14924\tvalid_1's rmse: 1.97225\n",
            "[400]\ttraining's rmse: 2.1453\tvalid_1's rmse: 1.97163\n",
            "[410]\ttraining's rmse: 2.14197\tvalid_1's rmse: 1.97117\n",
            "[420]\ttraining's rmse: 2.14021\tvalid_1's rmse: 1.97076\n",
            "[430]\ttraining's rmse: 2.13853\tvalid_1's rmse: 1.96984\n",
            "[440]\ttraining's rmse: 2.13624\tvalid_1's rmse: 1.96954\n",
            "[450]\ttraining's rmse: 2.13448\tvalid_1's rmse: 1.96921\n",
            "[460]\ttraining's rmse: 2.13283\tvalid_1's rmse: 1.96896\n",
            "[470]\ttraining's rmse: 2.13089\tvalid_1's rmse: 1.96866\n",
            "[480]\ttraining's rmse: 2.12946\tvalid_1's rmse: 1.96821\n",
            "[490]\ttraining's rmse: 2.12831\tvalid_1's rmse: 1.96768\n",
            "[500]\ttraining's rmse: 2.12616\tvalid_1's rmse: 1.96733\n",
            "[510]\ttraining's rmse: 2.12495\tvalid_1's rmse: 1.9676\n",
            "[520]\ttraining's rmse: 2.12323\tvalid_1's rmse: 1.96771\n",
            "[530]\ttraining's rmse: 2.12153\tvalid_1's rmse: 1.96716\n",
            "[540]\ttraining's rmse: 2.11991\tvalid_1's rmse: 1.96705\n",
            "[550]\ttraining's rmse: 2.11858\tvalid_1's rmse: 1.96669\n",
            "[560]\ttraining's rmse: 2.11742\tvalid_1's rmse: 1.96683\n",
            "[570]\ttraining's rmse: 2.11638\tvalid_1's rmse: 1.96668\n",
            "[580]\ttraining's rmse: 2.11498\tvalid_1's rmse: 1.9662\n",
            "[590]\ttraining's rmse: 2.11323\tvalid_1's rmse: 1.9662\n",
            "[600]\ttraining's rmse: 2.11208\tvalid_1's rmse: 1.96596\n",
            "[610]\ttraining's rmse: 2.11022\tvalid_1's rmse: 1.96573\n",
            "[620]\ttraining's rmse: 2.10897\tvalid_1's rmse: 1.96555\n",
            "[630]\ttraining's rmse: 2.10807\tvalid_1's rmse: 1.9653\n",
            "[640]\ttraining's rmse: 2.10674\tvalid_1's rmse: 1.96523\n",
            "[650]\ttraining's rmse: 2.10563\tvalid_1's rmse: 1.96496\n",
            "[660]\ttraining's rmse: 2.10472\tvalid_1's rmse: 1.96488\n",
            "[670]\ttraining's rmse: 2.10351\tvalid_1's rmse: 1.96457\n",
            "[680]\ttraining's rmse: 2.10253\tvalid_1's rmse: 1.96438\n",
            "[690]\ttraining's rmse: 2.10128\tvalid_1's rmse: 1.96396\n",
            "[700]\ttraining's rmse: 2.1004\tvalid_1's rmse: 1.96378\n",
            "[710]\ttraining's rmse: 2.09933\tvalid_1's rmse: 1.96349\n",
            "[720]\ttraining's rmse: 2.09827\tvalid_1's rmse: 1.96344\n",
            "[730]\ttraining's rmse: 2.0976\tvalid_1's rmse: 1.96322\n",
            "[740]\ttraining's rmse: 2.09671\tvalid_1's rmse: 1.96307\n",
            "[750]\ttraining's rmse: 2.0954\tvalid_1's rmse: 1.96298\n",
            "[760]\ttraining's rmse: 2.09412\tvalid_1's rmse: 1.96274\n",
            "[770]\ttraining's rmse: 2.09293\tvalid_1's rmse: 1.96256\n",
            "[780]\ttraining's rmse: 2.09193\tvalid_1's rmse: 1.96244\n",
            "[790]\ttraining's rmse: 2.09074\tvalid_1's rmse: 1.96211\n",
            "[800]\ttraining's rmse: 2.08997\tvalid_1's rmse: 1.96198\n",
            "[810]\ttraining's rmse: 2.08932\tvalid_1's rmse: 1.96212\n",
            "[820]\ttraining's rmse: 2.08823\tvalid_1's rmse: 1.962\n",
            "[830]\ttraining's rmse: 2.08724\tvalid_1's rmse: 1.96195\n",
            "[840]\ttraining's rmse: 2.08568\tvalid_1's rmse: 1.96181\n",
            "[850]\ttraining's rmse: 2.08461\tvalid_1's rmse: 1.96176\n",
            "[860]\ttraining's rmse: 2.08321\tvalid_1's rmse: 1.96164\n",
            "[870]\ttraining's rmse: 2.08237\tvalid_1's rmse: 1.96158\n",
            "[880]\ttraining's rmse: 2.08168\tvalid_1's rmse: 1.9614\n",
            "[890]\ttraining's rmse: 2.0808\tvalid_1's rmse: 1.96135\n",
            "[900]\ttraining's rmse: 2.0798\tvalid_1's rmse: 1.96116\n",
            "[910]\ttraining's rmse: 2.07893\tvalid_1's rmse: 1.96109\n",
            "[920]\ttraining's rmse: 2.07818\tvalid_1's rmse: 1.96093\n",
            "[930]\ttraining's rmse: 2.07708\tvalid_1's rmse: 1.96087\n",
            "[940]\ttraining's rmse: 2.07597\tvalid_1's rmse: 1.96077\n",
            "[950]\ttraining's rmse: 2.07499\tvalid_1's rmse: 1.96057\n",
            "[960]\ttraining's rmse: 2.07437\tvalid_1's rmse: 1.96043\n",
            "[970]\ttraining's rmse: 2.0736\tvalid_1's rmse: 1.96046\n",
            "[980]\ttraining's rmse: 2.07265\tvalid_1's rmse: 1.96029\n",
            "[990]\ttraining's rmse: 2.07182\tvalid_1's rmse: 1.96004\n",
            "[1000]\ttraining's rmse: 2.07104\tvalid_1's rmse: 1.95993\n",
            "[1010]\ttraining's rmse: 2.07039\tvalid_1's rmse: 1.95993\n",
            "[1020]\ttraining's rmse: 2.06988\tvalid_1's rmse: 1.95987\n",
            "[1030]\ttraining's rmse: 2.06886\tvalid_1's rmse: 1.95985\n",
            "[1040]\ttraining's rmse: 2.06819\tvalid_1's rmse: 1.95957\n",
            "[1050]\ttraining's rmse: 2.06728\tvalid_1's rmse: 1.95932\n",
            "[1060]\ttraining's rmse: 2.06629\tvalid_1's rmse: 1.95921\n",
            "[1070]\ttraining's rmse: 2.06544\tvalid_1's rmse: 1.95916\n",
            "[1080]\ttraining's rmse: 2.06443\tvalid_1's rmse: 1.95899\n",
            "[1090]\ttraining's rmse: 2.0636\tvalid_1's rmse: 1.95884\n",
            "[1100]\ttraining's rmse: 2.06292\tvalid_1's rmse: 1.95895\n",
            "[1110]\ttraining's rmse: 2.06226\tvalid_1's rmse: 1.95897\n",
            "[1120]\ttraining's rmse: 2.06166\tvalid_1's rmse: 1.95893\n",
            "[1130]\ttraining's rmse: 2.06101\tvalid_1's rmse: 1.95895\n",
            "[1140]\ttraining's rmse: 2.06018\tvalid_1's rmse: 1.95912\n",
            "[1150]\ttraining's rmse: 2.05962\tvalid_1's rmse: 1.95914\n",
            "[1160]\ttraining's rmse: 2.05899\tvalid_1's rmse: 1.9592\n",
            "[1170]\ttraining's rmse: 2.05842\tvalid_1's rmse: 1.95908\n",
            "[1180]\ttraining's rmse: 2.0579\tvalid_1's rmse: 1.95895\n",
            "[1190]\ttraining's rmse: 2.05716\tvalid_1's rmse: 1.95899\n",
            "[1200]\ttraining's rmse: 2.05611\tvalid_1's rmse: 1.95902\n",
            "[1210]\ttraining's rmse: 2.05541\tvalid_1's rmse: 1.95894\n",
            "[1220]\ttraining's rmse: 2.05489\tvalid_1's rmse: 1.95881\n",
            "[1230]\ttraining's rmse: 2.05441\tvalid_1's rmse: 1.95869\n",
            "[1240]\ttraining's rmse: 2.05376\tvalid_1's rmse: 1.95866\n",
            "[1250]\ttraining's rmse: 2.05308\tvalid_1's rmse: 1.9584\n",
            "[1260]\ttraining's rmse: 2.05232\tvalid_1's rmse: 1.95831\n",
            "[1270]\ttraining's rmse: 2.05158\tvalid_1's rmse: 1.95819\n",
            "[1280]\ttraining's rmse: 2.05095\tvalid_1's rmse: 1.95819\n",
            "[1290]\ttraining's rmse: 2.05043\tvalid_1's rmse: 1.95818\n",
            "[1300]\ttraining's rmse: 2.0498\tvalid_1's rmse: 1.95805\n",
            "[1310]\ttraining's rmse: 2.04934\tvalid_1's rmse: 1.95818\n",
            "[1320]\ttraining's rmse: 2.04879\tvalid_1's rmse: 1.9582\n",
            "[1330]\ttraining's rmse: 2.0482\tvalid_1's rmse: 1.95812\n",
            "[1340]\ttraining's rmse: 2.04729\tvalid_1's rmse: 1.95809\n",
            "[1350]\ttraining's rmse: 2.04652\tvalid_1's rmse: 1.95803\n",
            "[1360]\ttraining's rmse: 2.04583\tvalid_1's rmse: 1.958\n",
            "[1370]\ttraining's rmse: 2.04531\tvalid_1's rmse: 1.95811\n",
            "[1380]\ttraining's rmse: 2.04462\tvalid_1's rmse: 1.95804\n",
            "[1390]\ttraining's rmse: 2.04396\tvalid_1's rmse: 1.95789\n",
            "[1400]\ttraining's rmse: 2.04323\tvalid_1's rmse: 1.95786\n",
            "Doing prediction\n",
            "i =  0\n",
            "i =  1\n",
            "i =  2\n",
            "i =  3\n",
            "i =  4\n",
            "i =  5\n",
            "i =  6\n",
            "i =  7\n",
            "i =  8\n",
            "i =  9\n",
            "i =  10\n",
            "i =  11\n",
            "i =  12\n",
            "i =  13\n",
            "i =  14\n",
            "i =  15\n",
            "i =  16\n",
            "i =  17\n",
            "i =  18\n",
            "i =  19\n",
            "i =  20\n",
            "i =  21\n",
            "i =  22\n",
            "i =  23\n"
          ],
          "name": "stdout"
        }
      ]
    },
    {
      "cell_type": "code",
      "metadata": {
        "id": "EkGi8c3RagWL",
        "colab_type": "code",
        "colab": {}
      },
      "source": [
        "!cp '/content/CA_1_submission.csv' '../content/drive/My Drive/Colab Notebooks/'"
      ],
      "execution_count": 0,
      "outputs": []
    },
    {
      "cell_type": "code",
      "metadata": {
        "id": "H3hIVhhMxOqR",
        "colab_type": "code",
        "colab": {}
      },
      "source": [
        ""
      ],
      "execution_count": 0,
      "outputs": []
    },
    {
      "cell_type": "markdown",
      "metadata": {
        "id": "C06F6qegQY65",
        "colab_type": "text"
      },
      "source": [
        "**SUBMISSION OF 10 SMALL STORE SPLIT MODELS**"
      ]
    },
    {
      "cell_type": "code",
      "metadata": {
        "id": "cB_G5TuVRs_P",
        "colab_type": "code",
        "outputId": "ec51ea1e-c923-4554-e0cf-6f7437829af0",
        "colab": {
          "base_uri": "https://localhost:8080/",
          "height": 34
        }
      },
      "source": [
        "path"
      ],
      "execution_count": 0,
      "outputs": [
        {
          "output_type": "execute_result",
          "data": {
            "text/plain": [
              "'../content/drive/My Drive/Colab Notebooks/'"
            ]
          },
          "metadata": {
            "tags": []
          },
          "execution_count": 31
        }
      ]
    },
    {
      "cell_type": "code",
      "metadata": {
        "id": "1VugUGcmi_W3",
        "colab_type": "code",
        "colab": {}
      },
      "source": [
        "sample_submission = pd.read_csv(path+'sample_submission.csv')"
      ],
      "execution_count": 0,
      "outputs": []
    },
    {
      "cell_type": "code",
      "metadata": {
        "id": "kzbx3J0SQXck",
        "colab_type": "code",
        "colab": {}
      },
      "source": [
        "CA_1_submission = pd.read_csv(path+'CA_1_submission.csv')\n",
        "CA_2_submission = pd.read_csv(path+'CA_2_submission.csv')\n",
        "CA_3_submission = pd.read_csv(path+'CA_3_submission.csv')\n",
        "CA_4_submission = pd.read_csv(path+'CA_4_submission.csv')\n",
        "TX_1_submission = pd.read_csv(path+'TX_1_submission.csv')\n",
        "TX_2_submission = pd.read_csv(path+'TX_2_submission.csv')\n",
        "TX_3_submission = pd.read_csv(path+'TX_3_submission.csv')\n",
        "WI_1_submission = pd.read_csv(path+'WI_1_submission.csv')\n",
        "WI_2_submission = pd.read_csv(path+'WI_2_submission.csv')\n",
        "WI_3_submission = pd.read_csv(path+'WI_3_submission.csv')"
      ],
      "execution_count": 0,
      "outputs": []
    },
    {
      "cell_type": "code",
      "metadata": {
        "id": "aS72wEw7egIS",
        "colab_type": "code",
        "colab": {}
      },
      "source": [
        "sample_submission = sample_submission[:30490]"
      ],
      "execution_count": 0,
      "outputs": []
    },
    {
      "cell_type": "code",
      "metadata": {
        "id": "DDLL9-hYTiuV",
        "colab_type": "code",
        "colab": {}
      },
      "source": [
        "sample = pd.melt(sample_submission, id_vars = ['id'], var_name = 'day', value_name = 'demand')"
      ],
      "execution_count": 0,
      "outputs": []
    },
    {
      "cell_type": "code",
      "metadata": {
        "id": "2x4nfpd5bdBl",
        "colab_type": "code",
        "colab": {}
      },
      "source": [
        "sample['day'] = sample['day'].apply(lambda x: int(x[1:])).astype('int16')"
      ],
      "execution_count": 0,
      "outputs": []
    },
    {
      "cell_type": "code",
      "metadata": {
        "id": "fxga5wQxUXuX",
        "colab_type": "code",
        "colab": {}
      },
      "source": [
        "sample.drop('demand', axis=1, inplace=True)"
      ],
      "execution_count": 0,
      "outputs": []
    },
    {
      "cell_type": "code",
      "metadata": {
        "id": "prE27nNcbP3d",
        "colab_type": "code",
        "colab": {}
      },
      "source": [
        "sample['day'] = sample['day'] + 1913"
      ],
      "execution_count": 0,
      "outputs": []
    },
    {
      "cell_type": "code",
      "metadata": {
        "id": "GauiQAfUdOig",
        "colab_type": "code",
        "colab": {}
      },
      "source": [
        "result = pd.concat([CA_1_submission,CA_2_submission,CA_3_submission,CA_4_submission,\n",
        "                    TX_1_submission,TX_2_submission,TX_3_submission,\n",
        "                    WI_1_submission,WI_2_submission,WI_3_submission])"
      ],
      "execution_count": 0,
      "outputs": []
    },
    {
      "cell_type": "code",
      "metadata": {
        "id": "3gZwlp4FcOMw",
        "colab_type": "code",
        "colab": {}
      },
      "source": [
        "sample = sample.merge(result, how='left', on=['id','day'])"
      ],
      "execution_count": 0,
      "outputs": []
    },
    {
      "cell_type": "code",
      "metadata": {
        "id": "iKqSzSwvdEo-",
        "colab_type": "code",
        "colab": {}
      },
      "source": [
        "validation_submission = pd.DataFrame({'id':sample_submission['id']})"
      ],
      "execution_count": 0,
      "outputs": []
    },
    {
      "cell_type": "code",
      "metadata": {
        "id": "VGx9l_hgfrEd",
        "colab_type": "code",
        "colab": {}
      },
      "source": [
        "for i in range(0,28):\n",
        "    validation_submission['F'+str(i+1)] = np.array(sample['demand'][(30490*i):(30490*(i+1))])"
      ],
      "execution_count": 0,
      "outputs": []
    },
    {
      "cell_type": "code",
      "metadata": {
        "id": "ykxmKDxOgL7o",
        "colab_type": "code",
        "colab": {}
      },
      "source": [
        "evaluation_submission = validation_submission.copy()"
      ],
      "execution_count": 0,
      "outputs": []
    },
    {
      "cell_type": "code",
      "metadata": {
        "id": "Ge1ypgd2gNvj",
        "colab_type": "code",
        "colab": {}
      },
      "source": [
        "submission = pd.concat([validation_submission, evaluation_submission])"
      ],
      "execution_count": 0,
      "outputs": []
    },
    {
      "cell_type": "code",
      "metadata": {
        "id": "IV_t6PM_i10j",
        "colab_type": "code",
        "colab": {}
      },
      "source": [
        "submission['id'] = sample_submission['id'].values"
      ],
      "execution_count": 0,
      "outputs": []
    },
    {
      "cell_type": "code",
      "metadata": {
        "id": "2InTqNwzFwwC",
        "colab_type": "code",
        "outputId": "e29fc695-95b6-4006-a329-a80851267fe6",
        "colab": {
          "base_uri": "https://localhost:8080/",
          "height": 304
        }
      },
      "source": [
        "submission.describe()"
      ],
      "execution_count": 0,
      "outputs": [
        {
          "output_type": "execute_result",
          "data": {
            "text/html": [
              "<div>\n",
              "<style scoped>\n",
              "    .dataframe tbody tr th:only-of-type {\n",
              "        vertical-align: middle;\n",
              "    }\n",
              "\n",
              "    .dataframe tbody tr th {\n",
              "        vertical-align: top;\n",
              "    }\n",
              "\n",
              "    .dataframe thead th {\n",
              "        text-align: right;\n",
              "    }\n",
              "</style>\n",
              "<table border=\"1\" class=\"dataframe\">\n",
              "  <thead>\n",
              "    <tr style=\"text-align: right;\">\n",
              "      <th></th>\n",
              "      <th>F1</th>\n",
              "      <th>F2</th>\n",
              "      <th>F3</th>\n",
              "      <th>F4</th>\n",
              "      <th>F5</th>\n",
              "      <th>F6</th>\n",
              "      <th>F7</th>\n",
              "      <th>F8</th>\n",
              "      <th>F9</th>\n",
              "      <th>F10</th>\n",
              "      <th>F11</th>\n",
              "      <th>F12</th>\n",
              "      <th>F13</th>\n",
              "      <th>F14</th>\n",
              "      <th>F15</th>\n",
              "      <th>F16</th>\n",
              "      <th>F17</th>\n",
              "      <th>F18</th>\n",
              "      <th>F19</th>\n",
              "      <th>F20</th>\n",
              "      <th>F21</th>\n",
              "      <th>F22</th>\n",
              "      <th>F23</th>\n",
              "      <th>F24</th>\n",
              "      <th>F25</th>\n",
              "      <th>F26</th>\n",
              "      <th>F27</th>\n",
              "      <th>F28</th>\n",
              "    </tr>\n",
              "  </thead>\n",
              "  <tbody>\n",
              "    <tr>\n",
              "      <th>count</th>\n",
              "      <td>60980.000000</td>\n",
              "      <td>60980.000000</td>\n",
              "      <td>60980.000000</td>\n",
              "      <td>60980.000000</td>\n",
              "      <td>60980.000000</td>\n",
              "      <td>60980.000000</td>\n",
              "      <td>60980.000000</td>\n",
              "      <td>60980.000000</td>\n",
              "      <td>60980.000000</td>\n",
              "      <td>60980.000000</td>\n",
              "      <td>60980.000000</td>\n",
              "      <td>60980.000000</td>\n",
              "      <td>60980.000000</td>\n",
              "      <td>60980.000000</td>\n",
              "      <td>60980.000000</td>\n",
              "      <td>60980.000000</td>\n",
              "      <td>60980.000000</td>\n",
              "      <td>60980.000000</td>\n",
              "      <td>60980.000000</td>\n",
              "      <td>60980.000000</td>\n",
              "      <td>60980.000000</td>\n",
              "      <td>60980.000000</td>\n",
              "      <td>6.098000e+04</td>\n",
              "      <td>60980.000000</td>\n",
              "      <td>60980.000000</td>\n",
              "      <td>60980.000000</td>\n",
              "      <td>60980.000000</td>\n",
              "      <td>60980.000000</td>\n",
              "    </tr>\n",
              "    <tr>\n",
              "      <th>mean</th>\n",
              "      <td>0.001343</td>\n",
              "      <td>0.001387</td>\n",
              "      <td>0.001423</td>\n",
              "      <td>0.001296</td>\n",
              "      <td>0.001282</td>\n",
              "      <td>0.001252</td>\n",
              "      <td>0.001077</td>\n",
              "      <td>0.000750</td>\n",
              "      <td>0.000937</td>\n",
              "      <td>0.000662</td>\n",
              "      <td>0.000841</td>\n",
              "      <td>0.000811</td>\n",
              "      <td>0.000627</td>\n",
              "      <td>0.000442</td>\n",
              "      <td>0.000442</td>\n",
              "      <td>0.000476</td>\n",
              "      <td>0.000498</td>\n",
              "      <td>0.000587</td>\n",
              "      <td>0.000498</td>\n",
              "      <td>0.000282</td>\n",
              "      <td>0.000288</td>\n",
              "      <td>0.000233</td>\n",
              "      <td>2.942054e-04</td>\n",
              "      <td>0.000257</td>\n",
              "      <td>0.000317</td>\n",
              "      <td>0.000307</td>\n",
              "      <td>0.000151</td>\n",
              "      <td>0.000157</td>\n",
              "    </tr>\n",
              "    <tr>\n",
              "      <th>std</th>\n",
              "      <td>0.005848</td>\n",
              "      <td>0.004117</td>\n",
              "      <td>0.003994</td>\n",
              "      <td>0.003292</td>\n",
              "      <td>0.003244</td>\n",
              "      <td>0.002934</td>\n",
              "      <td>0.002395</td>\n",
              "      <td>0.002062</td>\n",
              "      <td>0.002737</td>\n",
              "      <td>0.001680</td>\n",
              "      <td>0.002261</td>\n",
              "      <td>0.002235</td>\n",
              "      <td>0.002207</td>\n",
              "      <td>0.001159</td>\n",
              "      <td>0.001325</td>\n",
              "      <td>0.001380</td>\n",
              "      <td>0.001463</td>\n",
              "      <td>0.001720</td>\n",
              "      <td>0.001472</td>\n",
              "      <td>0.000778</td>\n",
              "      <td>0.000868</td>\n",
              "      <td>0.000670</td>\n",
              "      <td>9.371687e-04</td>\n",
              "      <td>0.000745</td>\n",
              "      <td>0.000860</td>\n",
              "      <td>0.000802</td>\n",
              "      <td>0.000389</td>\n",
              "      <td>0.000397</td>\n",
              "    </tr>\n",
              "    <tr>\n",
              "      <th>min</th>\n",
              "      <td>0.000001</td>\n",
              "      <td>0.000005</td>\n",
              "      <td>0.000011</td>\n",
              "      <td>0.000010</td>\n",
              "      <td>0.000005</td>\n",
              "      <td>0.000007</td>\n",
              "      <td>0.000006</td>\n",
              "      <td>0.000004</td>\n",
              "      <td>0.000002</td>\n",
              "      <td>0.000004</td>\n",
              "      <td>0.000004</td>\n",
              "      <td>0.000006</td>\n",
              "      <td>0.000005</td>\n",
              "      <td>0.000005</td>\n",
              "      <td>0.000003</td>\n",
              "      <td>0.000002</td>\n",
              "      <td>0.000002</td>\n",
              "      <td>0.000002</td>\n",
              "      <td>0.000007</td>\n",
              "      <td>0.000003</td>\n",
              "      <td>0.000003</td>\n",
              "      <td>0.000002</td>\n",
              "      <td>7.644059e-07</td>\n",
              "      <td>0.000002</td>\n",
              "      <td>0.000007</td>\n",
              "      <td>0.000006</td>\n",
              "      <td>0.000005</td>\n",
              "      <td>0.000002</td>\n",
              "    </tr>\n",
              "    <tr>\n",
              "      <th>25%</th>\n",
              "      <td>0.000141</td>\n",
              "      <td>0.000187</td>\n",
              "      <td>0.000191</td>\n",
              "      <td>0.000186</td>\n",
              "      <td>0.000222</td>\n",
              "      <td>0.000258</td>\n",
              "      <td>0.000195</td>\n",
              "      <td>0.000121</td>\n",
              "      <td>0.000137</td>\n",
              "      <td>0.000113</td>\n",
              "      <td>0.000134</td>\n",
              "      <td>0.000142</td>\n",
              "      <td>0.000107</td>\n",
              "      <td>0.000090</td>\n",
              "      <td>0.000073</td>\n",
              "      <td>0.000076</td>\n",
              "      <td>0.000069</td>\n",
              "      <td>0.000076</td>\n",
              "      <td>0.000081</td>\n",
              "      <td>0.000061</td>\n",
              "      <td>0.000056</td>\n",
              "      <td>0.000044</td>\n",
              "      <td>4.629421e-05</td>\n",
              "      <td>0.000050</td>\n",
              "      <td>0.000064</td>\n",
              "      <td>0.000063</td>\n",
              "      <td>0.000038</td>\n",
              "      <td>0.000037</td>\n",
              "    </tr>\n",
              "    <tr>\n",
              "      <th>50%</th>\n",
              "      <td>0.000336</td>\n",
              "      <td>0.000421</td>\n",
              "      <td>0.000426</td>\n",
              "      <td>0.000416</td>\n",
              "      <td>0.000476</td>\n",
              "      <td>0.000553</td>\n",
              "      <td>0.000448</td>\n",
              "      <td>0.000284</td>\n",
              "      <td>0.000305</td>\n",
              "      <td>0.000261</td>\n",
              "      <td>0.000295</td>\n",
              "      <td>0.000313</td>\n",
              "      <td>0.000230</td>\n",
              "      <td>0.000192</td>\n",
              "      <td>0.000156</td>\n",
              "      <td>0.000164</td>\n",
              "      <td>0.000153</td>\n",
              "      <td>0.000156</td>\n",
              "      <td>0.000159</td>\n",
              "      <td>0.000111</td>\n",
              "      <td>0.000103</td>\n",
              "      <td>0.000079</td>\n",
              "      <td>8.865837e-05</td>\n",
              "      <td>0.000088</td>\n",
              "      <td>0.000108</td>\n",
              "      <td>0.000112</td>\n",
              "      <td>0.000063</td>\n",
              "      <td>0.000063</td>\n",
              "    </tr>\n",
              "    <tr>\n",
              "      <th>75%</th>\n",
              "      <td>0.000852</td>\n",
              "      <td>0.001023</td>\n",
              "      <td>0.001065</td>\n",
              "      <td>0.001030</td>\n",
              "      <td>0.001080</td>\n",
              "      <td>0.001158</td>\n",
              "      <td>0.001036</td>\n",
              "      <td>0.000620</td>\n",
              "      <td>0.000716</td>\n",
              "      <td>0.000550</td>\n",
              "      <td>0.000684</td>\n",
              "      <td>0.000683</td>\n",
              "      <td>0.000523</td>\n",
              "      <td>0.000399</td>\n",
              "      <td>0.000369</td>\n",
              "      <td>0.000368</td>\n",
              "      <td>0.000379</td>\n",
              "      <td>0.000390</td>\n",
              "      <td>0.000368</td>\n",
              "      <td>0.000234</td>\n",
              "      <td>0.000220</td>\n",
              "      <td>0.000165</td>\n",
              "      <td>1.879715e-04</td>\n",
              "      <td>0.000180</td>\n",
              "      <td>0.000209</td>\n",
              "      <td>0.000226</td>\n",
              "      <td>0.000119</td>\n",
              "      <td>0.000135</td>\n",
              "    </tr>\n",
              "    <tr>\n",
              "      <th>max</th>\n",
              "      <td>0.315974</td>\n",
              "      <td>0.159242</td>\n",
              "      <td>0.155664</td>\n",
              "      <td>0.133986</td>\n",
              "      <td>0.143396</td>\n",
              "      <td>0.146881</td>\n",
              "      <td>0.096268</td>\n",
              "      <td>0.087172</td>\n",
              "      <td>0.109043</td>\n",
              "      <td>0.048114</td>\n",
              "      <td>0.084744</td>\n",
              "      <td>0.086075</td>\n",
              "      <td>0.118897</td>\n",
              "      <td>0.041372</td>\n",
              "      <td>0.044372</td>\n",
              "      <td>0.040000</td>\n",
              "      <td>0.040200</td>\n",
              "      <td>0.051470</td>\n",
              "      <td>0.048016</td>\n",
              "      <td>0.026782</td>\n",
              "      <td>0.029544</td>\n",
              "      <td>0.029911</td>\n",
              "      <td>4.905097e-02</td>\n",
              "      <td>0.033156</td>\n",
              "      <td>0.020319</td>\n",
              "      <td>0.021882</td>\n",
              "      <td>0.013637</td>\n",
              "      <td>0.012176</td>\n",
              "    </tr>\n",
              "  </tbody>\n",
              "</table>\n",
              "</div>"
            ],
            "text/plain": [
              "                 F1            F2  ...           F27           F28\n",
              "count  60980.000000  60980.000000  ...  60980.000000  60980.000000\n",
              "mean       0.001343      0.001387  ...      0.000151      0.000157\n",
              "std        0.005848      0.004117  ...      0.000389      0.000397\n",
              "min        0.000001      0.000005  ...      0.000005      0.000002\n",
              "25%        0.000141      0.000187  ...      0.000038      0.000037\n",
              "50%        0.000336      0.000421  ...      0.000063      0.000063\n",
              "75%        0.000852      0.001023  ...      0.000119      0.000135\n",
              "max        0.315974      0.159242  ...      0.013637      0.012176\n",
              "\n",
              "[8 rows x 28 columns]"
            ]
          },
          "metadata": {
            "tags": []
          },
          "execution_count": 47
        }
      ]
    },
    {
      "cell_type": "code",
      "metadata": {
        "id": "KAHu2vr6h2Wa",
        "colab_type": "code",
        "colab": {}
      },
      "source": [
        "submission.to_csv('submission.csv', index=False)"
      ],
      "execution_count": 0,
      "outputs": []
    },
    {
      "cell_type": "code",
      "metadata": {
        "id": "HElLzTqDh3w-",
        "colab_type": "code",
        "outputId": "56934092-1292-400a-c1e3-6ebdc4749cb8",
        "colab": {
          "base_uri": "https://localhost:8080/",
          "height": 304
        }
      },
      "source": [
        "submission.describe()"
      ],
      "execution_count": 0,
      "outputs": [
        {
          "output_type": "execute_result",
          "data": {
            "text/html": [
              "<div>\n",
              "<style scoped>\n",
              "    .dataframe tbody tr th:only-of-type {\n",
              "        vertical-align: middle;\n",
              "    }\n",
              "\n",
              "    .dataframe tbody tr th {\n",
              "        vertical-align: top;\n",
              "    }\n",
              "\n",
              "    .dataframe thead th {\n",
              "        text-align: right;\n",
              "    }\n",
              "</style>\n",
              "<table border=\"1\" class=\"dataframe\">\n",
              "  <thead>\n",
              "    <tr style=\"text-align: right;\">\n",
              "      <th></th>\n",
              "      <th>F1</th>\n",
              "      <th>F2</th>\n",
              "      <th>F3</th>\n",
              "      <th>F4</th>\n",
              "      <th>F5</th>\n",
              "      <th>F6</th>\n",
              "      <th>F7</th>\n",
              "      <th>F8</th>\n",
              "      <th>F9</th>\n",
              "      <th>F10</th>\n",
              "      <th>F11</th>\n",
              "      <th>F12</th>\n",
              "      <th>F13</th>\n",
              "      <th>F14</th>\n",
              "      <th>F15</th>\n",
              "      <th>F16</th>\n",
              "      <th>F17</th>\n",
              "      <th>F18</th>\n",
              "      <th>F19</th>\n",
              "      <th>F20</th>\n",
              "      <th>F21</th>\n",
              "      <th>F22</th>\n",
              "      <th>F23</th>\n",
              "      <th>F24</th>\n",
              "      <th>F25</th>\n",
              "      <th>F26</th>\n",
              "      <th>F27</th>\n",
              "      <th>F28</th>\n",
              "    </tr>\n",
              "  </thead>\n",
              "  <tbody>\n",
              "    <tr>\n",
              "      <th>count</th>\n",
              "      <td>60980.000000</td>\n",
              "      <td>60980.000000</td>\n",
              "      <td>60980.000000</td>\n",
              "      <td>60980.000000</td>\n",
              "      <td>60980.000000</td>\n",
              "      <td>60980.000000</td>\n",
              "      <td>60980.000000</td>\n",
              "      <td>60980.000000</td>\n",
              "      <td>60980.000000</td>\n",
              "      <td>60980.000000</td>\n",
              "      <td>60980.000000</td>\n",
              "      <td>60980.000000</td>\n",
              "      <td>60980.000000</td>\n",
              "      <td>60980.000000</td>\n",
              "      <td>60980.000000</td>\n",
              "      <td>60980.000000</td>\n",
              "      <td>60980.000000</td>\n",
              "      <td>60980.000000</td>\n",
              "      <td>60980.000000</td>\n",
              "      <td>60980.000000</td>\n",
              "      <td>60980.000000</td>\n",
              "      <td>60980.000000</td>\n",
              "      <td>60980.000000</td>\n",
              "      <td>60980.000000</td>\n",
              "      <td>60980.000000</td>\n",
              "      <td>60980.000000</td>\n",
              "      <td>60980.000000</td>\n",
              "      <td>60980.000000</td>\n",
              "    </tr>\n",
              "    <tr>\n",
              "      <th>mean</th>\n",
              "      <td>1.220020</td>\n",
              "      <td>1.178965</td>\n",
              "      <td>1.187434</td>\n",
              "      <td>1.201349</td>\n",
              "      <td>1.363002</td>\n",
              "      <td>1.693079</td>\n",
              "      <td>1.751441</td>\n",
              "      <td>1.484504</td>\n",
              "      <td>1.544116</td>\n",
              "      <td>1.340862</td>\n",
              "      <td>1.352255</td>\n",
              "      <td>1.539889</td>\n",
              "      <td>1.831907</td>\n",
              "      <td>1.607268</td>\n",
              "      <td>1.550285</td>\n",
              "      <td>1.362289</td>\n",
              "      <td>1.417775</td>\n",
              "      <td>1.438198</td>\n",
              "      <td>1.486356</td>\n",
              "      <td>1.841886</td>\n",
              "      <td>1.967124</td>\n",
              "      <td>1.446200</td>\n",
              "      <td>1.303840</td>\n",
              "      <td>1.300211</td>\n",
              "      <td>1.310740</td>\n",
              "      <td>1.444938</td>\n",
              "      <td>1.739248</td>\n",
              "      <td>1.743915</td>\n",
              "    </tr>\n",
              "    <tr>\n",
              "      <th>std</th>\n",
              "      <td>2.605930</td>\n",
              "      <td>2.431350</td>\n",
              "      <td>2.408229</td>\n",
              "      <td>2.473661</td>\n",
              "      <td>2.841509</td>\n",
              "      <td>3.535596</td>\n",
              "      <td>3.573507</td>\n",
              "      <td>3.054047</td>\n",
              "      <td>3.165467</td>\n",
              "      <td>2.693780</td>\n",
              "      <td>2.877897</td>\n",
              "      <td>3.302647</td>\n",
              "      <td>3.839855</td>\n",
              "      <td>3.551854</td>\n",
              "      <td>3.196482</td>\n",
              "      <td>2.759724</td>\n",
              "      <td>2.945000</td>\n",
              "      <td>3.095184</td>\n",
              "      <td>3.143542</td>\n",
              "      <td>3.950460</td>\n",
              "      <td>4.042510</td>\n",
              "      <td>2.895552</td>\n",
              "      <td>2.659793</td>\n",
              "      <td>2.653828</td>\n",
              "      <td>2.762982</td>\n",
              "      <td>3.075282</td>\n",
              "      <td>3.732135</td>\n",
              "      <td>3.631683</td>\n",
              "    </tr>\n",
              "    <tr>\n",
              "      <th>min</th>\n",
              "      <td>0.000721</td>\n",
              "      <td>0.020110</td>\n",
              "      <td>0.026659</td>\n",
              "      <td>0.024205</td>\n",
              "      <td>0.029232</td>\n",
              "      <td>0.043205</td>\n",
              "      <td>0.042513</td>\n",
              "      <td>0.032829</td>\n",
              "      <td>0.038529</td>\n",
              "      <td>0.040558</td>\n",
              "      <td>0.030565</td>\n",
              "      <td>0.037885</td>\n",
              "      <td>0.045078</td>\n",
              "      <td>0.038823</td>\n",
              "      <td>0.030087</td>\n",
              "      <td>0.033055</td>\n",
              "      <td>0.030520</td>\n",
              "      <td>0.029548</td>\n",
              "      <td>0.030291</td>\n",
              "      <td>0.045561</td>\n",
              "      <td>0.042882</td>\n",
              "      <td>0.026792</td>\n",
              "      <td>0.025260</td>\n",
              "      <td>0.024416</td>\n",
              "      <td>0.021645</td>\n",
              "      <td>0.026220</td>\n",
              "      <td>0.033358</td>\n",
              "      <td>0.030822</td>\n",
              "    </tr>\n",
              "    <tr>\n",
              "      <th>25%</th>\n",
              "      <td>0.231287</td>\n",
              "      <td>0.269086</td>\n",
              "      <td>0.276550</td>\n",
              "      <td>0.276729</td>\n",
              "      <td>0.304187</td>\n",
              "      <td>0.365782</td>\n",
              "      <td>0.384642</td>\n",
              "      <td>0.307110</td>\n",
              "      <td>0.318202</td>\n",
              "      <td>0.298164</td>\n",
              "      <td>0.290812</td>\n",
              "      <td>0.318948</td>\n",
              "      <td>0.382608</td>\n",
              "      <td>0.329596</td>\n",
              "      <td>0.317138</td>\n",
              "      <td>0.287217</td>\n",
              "      <td>0.301069</td>\n",
              "      <td>0.302486</td>\n",
              "      <td>0.319118</td>\n",
              "      <td>0.378344</td>\n",
              "      <td>0.414779</td>\n",
              "      <td>0.313004</td>\n",
              "      <td>0.282955</td>\n",
              "      <td>0.296015</td>\n",
              "      <td>0.294855</td>\n",
              "      <td>0.320892</td>\n",
              "      <td>0.372191</td>\n",
              "      <td>0.377205</td>\n",
              "    </tr>\n",
              "    <tr>\n",
              "      <th>50%</th>\n",
              "      <td>0.552980</td>\n",
              "      <td>0.577069</td>\n",
              "      <td>0.579741</td>\n",
              "      <td>0.570485</td>\n",
              "      <td>0.635935</td>\n",
              "      <td>0.784234</td>\n",
              "      <td>0.831820</td>\n",
              "      <td>0.672070</td>\n",
              "      <td>0.705153</td>\n",
              "      <td>0.630669</td>\n",
              "      <td>0.607807</td>\n",
              "      <td>0.682318</td>\n",
              "      <td>0.816433</td>\n",
              "      <td>0.719988</td>\n",
              "      <td>0.706257</td>\n",
              "      <td>0.633962</td>\n",
              "      <td>0.649110</td>\n",
              "      <td>0.639482</td>\n",
              "      <td>0.672079</td>\n",
              "      <td>0.824620</td>\n",
              "      <td>0.907616</td>\n",
              "      <td>0.682582</td>\n",
              "      <td>0.615004</td>\n",
              "      <td>0.609010</td>\n",
              "      <td>0.594119</td>\n",
              "      <td>0.654474</td>\n",
              "      <td>0.772216</td>\n",
              "      <td>0.797245</td>\n",
              "    </tr>\n",
              "    <tr>\n",
              "      <th>75%</th>\n",
              "      <td>1.225079</td>\n",
              "      <td>1.177540</td>\n",
              "      <td>1.184204</td>\n",
              "      <td>1.198681</td>\n",
              "      <td>1.325668</td>\n",
              "      <td>1.693087</td>\n",
              "      <td>1.798016</td>\n",
              "      <td>1.459515</td>\n",
              "      <td>1.535732</td>\n",
              "      <td>1.341790</td>\n",
              "      <td>1.327057</td>\n",
              "      <td>1.488200</td>\n",
              "      <td>1.806311</td>\n",
              "      <td>1.564601</td>\n",
              "      <td>1.544173</td>\n",
              "      <td>1.360273</td>\n",
              "      <td>1.405892</td>\n",
              "      <td>1.395937</td>\n",
              "      <td>1.445931</td>\n",
              "      <td>1.778399</td>\n",
              "      <td>1.971997</td>\n",
              "      <td>1.448918</td>\n",
              "      <td>1.289089</td>\n",
              "      <td>1.287587</td>\n",
              "      <td>1.284108</td>\n",
              "      <td>1.392385</td>\n",
              "      <td>1.684112</td>\n",
              "      <td>1.715495</td>\n",
              "    </tr>\n",
              "    <tr>\n",
              "      <th>max</th>\n",
              "      <td>103.129826</td>\n",
              "      <td>96.196833</td>\n",
              "      <td>97.743190</td>\n",
              "      <td>100.777007</td>\n",
              "      <td>113.170946</td>\n",
              "      <td>134.769702</td>\n",
              "      <td>125.204108</td>\n",
              "      <td>102.611476</td>\n",
              "      <td>97.578504</td>\n",
              "      <td>97.761674</td>\n",
              "      <td>105.434750</td>\n",
              "      <td>116.261249</td>\n",
              "      <td>138.048988</td>\n",
              "      <td>122.569355</td>\n",
              "      <td>108.121420</td>\n",
              "      <td>101.152655</td>\n",
              "      <td>100.683121</td>\n",
              "      <td>105.011088</td>\n",
              "      <td>116.029930</td>\n",
              "      <td>134.740988</td>\n",
              "      <td>125.325292</td>\n",
              "      <td>101.584592</td>\n",
              "      <td>94.177146</td>\n",
              "      <td>96.342706</td>\n",
              "      <td>102.686281</td>\n",
              "      <td>116.448463</td>\n",
              "      <td>137.618544</td>\n",
              "      <td>127.231507</td>\n",
              "    </tr>\n",
              "  </tbody>\n",
              "</table>\n",
              "</div>"
            ],
            "text/plain": [
              "                 F1            F2  ...           F27           F28\n",
              "count  60980.000000  60980.000000  ...  60980.000000  60980.000000\n",
              "mean       1.220020      1.178965  ...      1.739248      1.743915\n",
              "std        2.605930      2.431350  ...      3.732135      3.631683\n",
              "min        0.000721      0.020110  ...      0.033358      0.030822\n",
              "25%        0.231287      0.269086  ...      0.372191      0.377205\n",
              "50%        0.552980      0.577069  ...      0.772216      0.797245\n",
              "75%        1.225079      1.177540  ...      1.684112      1.715495\n",
              "max      103.129826     96.196833  ...    137.618544    127.231507\n",
              "\n",
              "[8 rows x 28 columns]"
            ]
          },
          "metadata": {
            "tags": []
          },
          "execution_count": 22
        }
      ]
    },
    {
      "cell_type": "code",
      "metadata": {
        "id": "lIpBizBDkdPA",
        "colab_type": "code",
        "outputId": "1936d73d-461a-4705-fa13-38446c8cdf54",
        "colab": {
          "base_uri": "https://localhost:8080/",
          "height": 84
        }
      },
      "source": [
        "submission.columns"
      ],
      "execution_count": 0,
      "outputs": [
        {
          "output_type": "execute_result",
          "data": {
            "text/plain": [
              "Index(['id', 'F1', 'F2', 'F3', 'F4', 'F5', 'F6', 'F7', 'F8', 'F9', 'F10',\n",
              "       'F11', 'F12', 'F13', 'F14', 'F15', 'F16', 'F17', 'F18', 'F19', 'F20',\n",
              "       'F21', 'F22', 'F23', 'F24', 'F25', 'F26', 'F27', 'F28'],\n",
              "      dtype='object')"
            ]
          },
          "metadata": {
            "tags": []
          },
          "execution_count": 71
        }
      ]
    },
    {
      "cell_type": "code",
      "metadata": {
        "id": "WZfKPxsKr61p",
        "colab_type": "code",
        "colab": {}
      },
      "source": [
        "cols = ['F1', 'F2', 'F3', 'F4', 'F5', 'F6', 'F7', 'F8', 'F9', 'F10',\n",
        "       'F11', 'F12', 'F13', 'F14', 'F15', 'F16', 'F17', 'F18', 'F19', 'F20',\n",
        "       'F21', 'F22', 'F23', 'F24', 'F25', 'F26', 'F27', 'F28']"
      ],
      "execution_count": 0,
      "outputs": []
    },
    {
      "cell_type": "code",
      "metadata": {
        "id": "dPS_EHc0sCcq",
        "colab_type": "code",
        "colab": {}
      },
      "source": [
        "for col in cols:\n",
        "  submission[col] = submission[col].apply(lambda x: 0 if x<0.5 else x)"
      ],
      "execution_count": 0,
      "outputs": []
    },
    {
      "cell_type": "code",
      "metadata": {
        "id": "wjolX8FWsosC",
        "colab_type": "code",
        "outputId": "5f4fa7f8-2517-4d1a-ac88-ac1e31fb92b3",
        "colab": {
          "base_uri": "https://localhost:8080/",
          "height": 304
        }
      },
      "source": [
        "submission.describe()"
      ],
      "execution_count": 0,
      "outputs": [
        {
          "output_type": "execute_result",
          "data": {
            "text/html": [
              "<div>\n",
              "<style scoped>\n",
              "    .dataframe tbody tr th:only-of-type {\n",
              "        vertical-align: middle;\n",
              "    }\n",
              "\n",
              "    .dataframe tbody tr th {\n",
              "        vertical-align: top;\n",
              "    }\n",
              "\n",
              "    .dataframe thead th {\n",
              "        text-align: right;\n",
              "    }\n",
              "</style>\n",
              "<table border=\"1\" class=\"dataframe\">\n",
              "  <thead>\n",
              "    <tr style=\"text-align: right;\">\n",
              "      <th></th>\n",
              "      <th>F1</th>\n",
              "      <th>F2</th>\n",
              "      <th>F3</th>\n",
              "      <th>F4</th>\n",
              "      <th>F5</th>\n",
              "      <th>F6</th>\n",
              "      <th>F7</th>\n",
              "      <th>F8</th>\n",
              "      <th>F9</th>\n",
              "      <th>F10</th>\n",
              "      <th>F11</th>\n",
              "      <th>F12</th>\n",
              "      <th>F13</th>\n",
              "      <th>F14</th>\n",
              "      <th>F15</th>\n",
              "      <th>F16</th>\n",
              "      <th>F17</th>\n",
              "      <th>F18</th>\n",
              "      <th>F19</th>\n",
              "      <th>F20</th>\n",
              "      <th>F21</th>\n",
              "      <th>F22</th>\n",
              "      <th>F23</th>\n",
              "      <th>F24</th>\n",
              "      <th>F25</th>\n",
              "      <th>F26</th>\n",
              "      <th>F27</th>\n",
              "      <th>F28</th>\n",
              "    </tr>\n",
              "  </thead>\n",
              "  <tbody>\n",
              "    <tr>\n",
              "      <th>count</th>\n",
              "      <td>60980.000000</td>\n",
              "      <td>60980.000000</td>\n",
              "      <td>60980.000000</td>\n",
              "      <td>60980.000000</td>\n",
              "      <td>60980.000000</td>\n",
              "      <td>60980.000000</td>\n",
              "      <td>60980.000000</td>\n",
              "      <td>60980.000000</td>\n",
              "      <td>60980.000000</td>\n",
              "      <td>60980.000000</td>\n",
              "      <td>60980.000000</td>\n",
              "      <td>60980.000000</td>\n",
              "      <td>60980.000000</td>\n",
              "      <td>60980.000000</td>\n",
              "      <td>60980.000000</td>\n",
              "      <td>60980.000000</td>\n",
              "      <td>60980.000000</td>\n",
              "      <td>60980.000000</td>\n",
              "      <td>60980.000000</td>\n",
              "      <td>60980.000000</td>\n",
              "      <td>60980.000000</td>\n",
              "      <td>60980.000000</td>\n",
              "      <td>60980.000000</td>\n",
              "      <td>60980.000000</td>\n",
              "      <td>60980.000000</td>\n",
              "      <td>60980.000000</td>\n",
              "      <td>60980.000000</td>\n",
              "      <td>60980.000000</td>\n",
              "    </tr>\n",
              "    <tr>\n",
              "      <th>mean</th>\n",
              "      <td>1.113775</td>\n",
              "      <td>1.072239</td>\n",
              "      <td>1.077842</td>\n",
              "      <td>1.092042</td>\n",
              "      <td>1.263611</td>\n",
              "      <td>1.607028</td>\n",
              "      <td>1.656270</td>\n",
              "      <td>1.385646</td>\n",
              "      <td>1.431175</td>\n",
              "      <td>1.224207</td>\n",
              "      <td>1.227463</td>\n",
              "      <td>1.435791</td>\n",
              "      <td>1.743918</td>\n",
              "      <td>1.504226</td>\n",
              "      <td>1.434396</td>\n",
              "      <td>1.242399</td>\n",
              "      <td>1.300957</td>\n",
              "      <td>1.328620</td>\n",
              "      <td>1.390999</td>\n",
              "      <td>1.744186</td>\n",
              "      <td>1.851851</td>\n",
              "      <td>1.324698</td>\n",
              "      <td>1.187815</td>\n",
              "      <td>1.174183</td>\n",
              "      <td>1.187979</td>\n",
              "      <td>1.328497</td>\n",
              "      <td>1.646632</td>\n",
              "      <td>1.645973</td>\n",
              "    </tr>\n",
              "    <tr>\n",
              "      <th>std</th>\n",
              "      <td>2.677465</td>\n",
              "      <td>2.530232</td>\n",
              "      <td>2.496205</td>\n",
              "      <td>2.553157</td>\n",
              "      <td>2.902368</td>\n",
              "      <td>3.565083</td>\n",
              "      <td>3.602027</td>\n",
              "      <td>3.117032</td>\n",
              "      <td>3.218199</td>\n",
              "      <td>2.778813</td>\n",
              "      <td>2.921101</td>\n",
              "      <td>3.331401</td>\n",
              "      <td>3.843556</td>\n",
              "      <td>3.567087</td>\n",
              "      <td>3.210153</td>\n",
              "      <td>2.809466</td>\n",
              "      <td>2.983006</td>\n",
              "      <td>3.130765</td>\n",
              "      <td>3.179818</td>\n",
              "      <td>3.939025</td>\n",
              "      <td>3.979390</td>\n",
              "      <td>2.916455</td>\n",
              "      <td>2.728314</td>\n",
              "      <td>2.703921</td>\n",
              "      <td>2.798620</td>\n",
              "      <td>3.079382</td>\n",
              "      <td>3.719005</td>\n",
              "      <td>3.628785</td>\n",
              "    </tr>\n",
              "    <tr>\n",
              "      <th>min</th>\n",
              "      <td>0.000000</td>\n",
              "      <td>0.000000</td>\n",
              "      <td>0.000000</td>\n",
              "      <td>0.000000</td>\n",
              "      <td>0.000000</td>\n",
              "      <td>0.000000</td>\n",
              "      <td>0.000000</td>\n",
              "      <td>0.000000</td>\n",
              "      <td>0.000000</td>\n",
              "      <td>0.000000</td>\n",
              "      <td>0.000000</td>\n",
              "      <td>0.000000</td>\n",
              "      <td>0.000000</td>\n",
              "      <td>0.000000</td>\n",
              "      <td>0.000000</td>\n",
              "      <td>0.000000</td>\n",
              "      <td>0.000000</td>\n",
              "      <td>0.000000</td>\n",
              "      <td>0.000000</td>\n",
              "      <td>0.000000</td>\n",
              "      <td>0.000000</td>\n",
              "      <td>0.000000</td>\n",
              "      <td>0.000000</td>\n",
              "      <td>0.000000</td>\n",
              "      <td>0.000000</td>\n",
              "      <td>0.000000</td>\n",
              "      <td>0.000000</td>\n",
              "      <td>0.000000</td>\n",
              "    </tr>\n",
              "    <tr>\n",
              "      <th>25%</th>\n",
              "      <td>0.000000</td>\n",
              "      <td>0.000000</td>\n",
              "      <td>0.000000</td>\n",
              "      <td>0.000000</td>\n",
              "      <td>0.000000</td>\n",
              "      <td>0.000000</td>\n",
              "      <td>0.000000</td>\n",
              "      <td>0.000000</td>\n",
              "      <td>0.000000</td>\n",
              "      <td>0.000000</td>\n",
              "      <td>0.000000</td>\n",
              "      <td>0.000000</td>\n",
              "      <td>0.000000</td>\n",
              "      <td>0.000000</td>\n",
              "      <td>0.000000</td>\n",
              "      <td>0.000000</td>\n",
              "      <td>0.000000</td>\n",
              "      <td>0.000000</td>\n",
              "      <td>0.000000</td>\n",
              "      <td>0.000000</td>\n",
              "      <td>0.000000</td>\n",
              "      <td>0.000000</td>\n",
              "      <td>0.000000</td>\n",
              "      <td>0.000000</td>\n",
              "      <td>0.000000</td>\n",
              "      <td>0.000000</td>\n",
              "      <td>0.000000</td>\n",
              "      <td>0.000000</td>\n",
              "    </tr>\n",
              "    <tr>\n",
              "      <th>50%</th>\n",
              "      <td>0.551543</td>\n",
              "      <td>0.583428</td>\n",
              "      <td>0.582357</td>\n",
              "      <td>0.577109</td>\n",
              "      <td>0.645202</td>\n",
              "      <td>0.799287</td>\n",
              "      <td>0.822870</td>\n",
              "      <td>0.680506</td>\n",
              "      <td>0.700662</td>\n",
              "      <td>0.626239</td>\n",
              "      <td>0.607003</td>\n",
              "      <td>0.688008</td>\n",
              "      <td>0.827629</td>\n",
              "      <td>0.720991</td>\n",
              "      <td>0.704731</td>\n",
              "      <td>0.634334</td>\n",
              "      <td>0.648662</td>\n",
              "      <td>0.645336</td>\n",
              "      <td>0.685096</td>\n",
              "      <td>0.823271</td>\n",
              "      <td>0.905526</td>\n",
              "      <td>0.683239</td>\n",
              "      <td>0.618087</td>\n",
              "      <td>0.609214</td>\n",
              "      <td>0.601886</td>\n",
              "      <td>0.664435</td>\n",
              "      <td>0.786698</td>\n",
              "      <td>0.806761</td>\n",
              "    </tr>\n",
              "    <tr>\n",
              "      <th>75%</th>\n",
              "      <td>1.232778</td>\n",
              "      <td>1.188356</td>\n",
              "      <td>1.191913</td>\n",
              "      <td>1.207932</td>\n",
              "      <td>1.349314</td>\n",
              "      <td>1.708085</td>\n",
              "      <td>1.770354</td>\n",
              "      <td>1.467369</td>\n",
              "      <td>1.514916</td>\n",
              "      <td>1.330381</td>\n",
              "      <td>1.303967</td>\n",
              "      <td>1.485556</td>\n",
              "      <td>1.810879</td>\n",
              "      <td>1.556598</td>\n",
              "      <td>1.537444</td>\n",
              "      <td>1.349916</td>\n",
              "      <td>1.393946</td>\n",
              "      <td>1.401064</td>\n",
              "      <td>1.458280</td>\n",
              "      <td>1.778337</td>\n",
              "      <td>1.949259</td>\n",
              "      <td>1.450420</td>\n",
              "      <td>1.295698</td>\n",
              "      <td>1.285834</td>\n",
              "      <td>1.283775</td>\n",
              "      <td>1.395995</td>\n",
              "      <td>1.696020</td>\n",
              "      <td>1.729692</td>\n",
              "    </tr>\n",
              "    <tr>\n",
              "      <th>max</th>\n",
              "      <td>105.970309</td>\n",
              "      <td>101.830985</td>\n",
              "      <td>102.315847</td>\n",
              "      <td>104.094949</td>\n",
              "      <td>111.453359</td>\n",
              "      <td>126.662387</td>\n",
              "      <td>127.865020</td>\n",
              "      <td>108.582037</td>\n",
              "      <td>104.488580</td>\n",
              "      <td>104.744448</td>\n",
              "      <td>107.733045</td>\n",
              "      <td>114.243882</td>\n",
              "      <td>131.683670</td>\n",
              "      <td>124.140021</td>\n",
              "      <td>110.014600</td>\n",
              "      <td>105.301022</td>\n",
              "      <td>105.486680</td>\n",
              "      <td>107.173268</td>\n",
              "      <td>113.778271</td>\n",
              "      <td>130.160282</td>\n",
              "      <td>125.548569</td>\n",
              "      <td>107.243963</td>\n",
              "      <td>102.171130</td>\n",
              "      <td>103.051036</td>\n",
              "      <td>105.131592</td>\n",
              "      <td>112.788379</td>\n",
              "      <td>130.027923</td>\n",
              "      <td>125.675120</td>\n",
              "    </tr>\n",
              "  </tbody>\n",
              "</table>\n",
              "</div>"
            ],
            "text/plain": [
              "                 F1            F2  ...           F27           F28\n",
              "count  60980.000000  60980.000000  ...  60980.000000  60980.000000\n",
              "mean       1.113775      1.072239  ...      1.646632      1.645973\n",
              "std        2.677465      2.530232  ...      3.719005      3.628785\n",
              "min        0.000000      0.000000  ...      0.000000      0.000000\n",
              "25%        0.000000      0.000000  ...      0.000000      0.000000\n",
              "50%        0.551543      0.583428  ...      0.786698      0.806761\n",
              "75%        1.232778      1.188356  ...      1.696020      1.729692\n",
              "max      105.970309    101.830985  ...    130.027923    125.675120\n",
              "\n",
              "[8 rows x 28 columns]"
            ]
          },
          "metadata": {
            "tags": []
          },
          "execution_count": 75
        }
      ]
    },
    {
      "cell_type": "code",
      "metadata": {
        "id": "po0s9u7psv5R",
        "colab_type": "code",
        "colab": {}
      },
      "source": [
        "submission.to_csv('submission1.csv', index=False)"
      ],
      "execution_count": 0,
      "outputs": []
    },
    {
      "cell_type": "code",
      "metadata": {
        "id": "zjpYbUWks3F1",
        "colab_type": "code",
        "colab": {}
      },
      "source": [
        ""
      ],
      "execution_count": 0,
      "outputs": []
    }
  ]
}